{
 "cells": [
  {
   "cell_type": "code",
   "execution_count": null,
   "metadata": {
    "collapsed": true
   },
   "outputs": [],
   "source": []
  },
  {
   "cell_type": "markdown",
   "metadata": {},
   "source": [
    "# 语法规则"
   ]
  },
  {
   "cell_type": "markdown",
   "metadata": {},
   "source": [
    "Python中的正则表达式语法如下："
   ]
  },
  {
   "cell_type": "markdown",
   "metadata": {},
   "source": [
    "![image](“http://qiniu.cuiqingcai.com/wp-content/uploads/2015/02/20130515113723855.png”)"
   ]
  },
  {
   "cell_type": "markdown",
   "metadata": {},
   "source": [
    "![Alt text](http://qiniu.cuiqingcai.com/wp-content/uploads/2015/02/20130515113723855.png)"
   ]
  },
  {
   "cell_type": "markdown",
   "metadata": {},
   "source": [
    "# 相关注解"
   ]
  },
  {
   "cell_type": "markdown",
   "metadata": {},
   "source": [
    "## 数量词的贪婪模式与非贪婪模式"
   ]
  },
  {
   "cell_type": "markdown",
   "metadata": {},
   "source": [
    "正则表达式通常用于在文本中查找匹配的字符串。Python里数量词默认是贪婪的（在少数语言里也可能是默认非贪婪），总是尝试匹配尽可能多的字符；非贪婪的则相反，总是尝试匹配尽可能少的字符。例如：正则表达式”ab*”如果用于查找”abbbc”，将找到”abbb”。而如果使用非贪婪的数量词”ab*?”，将找到”a”。"
   ]
  },
  {
   "cell_type": "markdown",
   "metadata": {},
   "source": [
    "## 反斜杠问题"
   ]
  },
  {
   "cell_type": "markdown",
   "metadata": {},
   "source": [
    "与大多数编程语言相同，正则表达式里使用”\\”作为转义字符，这就可能造成反斜杠困扰。假如你需要匹配文本中的字符”\\”，那么使用编程语言表示的正则表达式里将需要4个反斜杠”\\\\\\\\”：前两个和后两个分别用于在编程语言里转义成反斜杠，转换成两个反斜杠后再在正则表达式里转义成一个反斜杠。\n",
    "\n",
    "Python里的原生字符串很好地解决了这个问题，这个例子中的正则表达式可以使用r”\\\\”表示。同样，匹配一个数字的”\\\\d”可以写成r”\\d”。有了原生字符串，妈妈也不用担心是不是漏写了反斜杠，写出来的表达式也更直观勒。"
   ]
  },
  {
   "cell_type": "markdown",
   "metadata": {},
   "source": [
    "# Python Re模块"
   ]
  },
  {
   "cell_type": "markdown",
   "metadata": {},
   "source": [
    "Python 自带了re模块，它提供了对正则表达式的支持。主要用到的方法列举如下"
   ]
  },
  {
   "cell_type": "code",
   "execution_count": null,
   "metadata": {
    "collapsed": true
   },
   "outputs": [],
   "source": [
    "re.compile(string[,flag])  \n",
    "#以下为匹配所用函数\n",
    "re.match(pattern, string[, flags])\n",
    "re.search(pattern, string[, flags])\n",
    "re.split(pattern, string[, maxsplit])\n",
    "re.findall(pattern, string[, flags])\n",
    "re.finditer(pattern, string[, flags])\n",
    "re.sub(pattern, repl, string[, count])\n",
    "re.subn(pattern, repl, string[, count])"
   ]
  },
  {
   "cell_type": "markdown",
   "metadata": {},
   "source": [
    "在介绍这几个方法之前，我们先来介绍一下pattern的概念，pattern可以理解为一个匹配模式，那么我们怎么获得这个匹配模式呢？很简单，我们需要利用re.compile方法就可以。例如"
   ]
  },
  {
   "cell_type": "code",
   "execution_count": null,
   "metadata": {
    "collapsed": true
   },
   "outputs": [],
   "source": [
    "pattern = re.compile(r'hello')"
   ]
  },
  {
   "cell_type": "markdown",
   "metadata": {},
   "source": [
    "在参数中我们传入了原生字符串对象，通过compile方法编译生成一个pattern对象，然后我们利用这个对象来进行进一步的匹配。\n",
    "\n",
    "另外大家可能注意到了另一个参数 flags，在这里解释一下这个参数的含义：\n",
    "\n",
    "参数flag是匹配模式，取值可以使用按位或运算符’|’表示同时生效，比如re.I | re.M。\n",
    "\n",
    "可选值有："
   ]
  },
  {
   "cell_type": "markdown",
   "metadata": {},
   "source": [
    "• re.M(全拼：MULTILINE): 多行模式，改变'^'和'$'的行为（参见上图）\n",
    " \n",
    "• re.S(全拼：DOTALL): 点任意匹配模式，改变'.'的行为\n",
    " \n",
    "• re.L(全拼：LOCALE): 使预定字符类 \\w \\W \\b \\B \\s \\S 取决于当前区域设定\n",
    " \n",
    "• re.U(全拼：UNICODE): 使预定字符类 \\w \\W \\b \\B \\s \\S \\d \\D 取决于unicode定义的字符属性\n",
    " \n",
    "• re.X(全拼：VERBOSE): 详细模式。这个模式下正则表达式可以是多行，忽略空白字符，并可以加入注释。"
   ]
  },
  {
   "cell_type": "markdown",
   "metadata": {},
   "source": [
    "在刚才所说的另外几个方法例如 re.match 里我们就需要用到这个pattern了，下面我们一一介绍。\n",
    "\n",
    "注：以下七个方法中的flags同样是代表匹配模式的意思，如果在pattern生成时已经指明了flags，那么在下面的方法中就不需要传入这个参数了。"
   ]
  },
  {
   "cell_type": "markdown",
   "metadata": {},
   "source": [
    "## re.match(pattern, string[, flags])"
   ]
  },
  {
   "cell_type": "markdown",
   "metadata": {},
   "source": [
    "这个方法将会从string（我们要匹配的字符串）的开头开始，尝试匹配pattern，一直向后匹配，如果遇到无法匹配的字符，立即返回None，如果匹配未结束已经到达string的末尾，也会返回None。两个结果均表示匹配失败，否则匹配pattern成功，同时匹配终止，不再对string向后匹配。下面我们通过一个例子理解一下"
   ]
  },
  {
   "cell_type": "code",
   "execution_count": 24,
   "metadata": {
    "collapsed": false
   },
   "outputs": [
    {
     "name": "stdout",
     "output_type": "stream",
     "text": [
      "1匹配失败！\n",
      "hello\n",
      "3匹配失败！\n",
      "hello\n"
     ]
    }
   ],
   "source": [
    "# -*- coding: utf-8 -*-\n",
    "#re.match搜索字符串的第一个字符开始进入到匹配模式，其只会匹配一次，结果只有匹配成功或\n",
    "#失败，不会返回多个匹配结果\n",
    "#导入re模块\n",
    "import re\n",
    " \n",
    "# 将正则表达式编译成Pattern对象，注意hello前面的r的意思是“原生字符串”\n",
    "pattern = re.compile(r'hello')\n",
    " \n",
    "# 使用re.match匹配文本，获得匹配结果，无法匹配时将返回None\n",
    "result1 = re.match(pattern,'hels hello')\n",
    "result2 = re.match(pattern,'helloo CQC!')\n",
    "result3 = re.match(pattern,'sa hello CQC!')\n",
    "result4 = re.match(pattern,'hello CQC hello!')\n",
    " \n",
    "#如果1匹配成功\n",
    "if result1:\n",
    "    # 使用Match获得分组信息\n",
    "    print result1.group()\n",
    "else:\n",
    "    print '1匹配失败！'\n",
    " \n",
    " \n",
    "#如果2匹配成功\n",
    "if result2:\n",
    "    # 使用Match获得分组信息\n",
    "    print result2.group()\n",
    "else:\n",
    "    print '2匹配失败！'\n",
    " \n",
    " \n",
    "#如果3匹配成功\n",
    "if result3:\n",
    "    # 使用Match获得分组信息\n",
    "    print result3.group()\n",
    "else:\n",
    "    print '3匹配失败！'\n",
    " \n",
    "#如果4匹配成功\n",
    "if result4:\n",
    "    # 使用Match获得分组信息\n",
    "    print result4.group()\n",
    "else:\n",
    "    print '4匹配失败！'"
   ]
  },
  {
   "cell_type": "markdown",
   "metadata": {},
   "source": [
    "匹配分析\n",
    "\n",
    "1.第一个匹配，pattern正则表达式为’hello’，我们匹配的目标字符串string也为hello，从头至尾完全匹配，匹配成功。\n",
    "\n",
    "2.第二个匹配，string为helloo CQC，从string头开始匹配pattern完全可以匹配，pattern匹配结束，同时匹配终止，后面的o CQC不再匹配，返回匹配成功的信息。\n",
    "\n",
    "3.第三个匹配，string为helo CQC，从string头开始匹配pattern，发现到 ‘o’ 时无法完成匹配，匹配终止，返回None\n",
    "\n",
    "4.第四个匹配，同第二个匹配原理，即使遇到了空格符也不会受影响。\n",
    "\n",
    "我们还看到最后打印出了result.group()，这个是什么意思呢？下面我们说一下关于**match对象的的属性和方法**\n",
    "Match对象是一次匹配的结果，包含了很多关于此次匹配的信息，可以使用Match提供的可读属性或方法来获取这些信息。\n",
    "\n"
   ]
  },
  {
   "cell_type": "markdown",
   "metadata": {},
   "source": [
    "属性：\n",
    "\n",
    "1.string: 匹配时使用的文本。\n",
    "\n",
    "2.re: 匹配时使用的Pattern对象。\n",
    "\n",
    "3.pos: 文本中正则表达式开始搜索的索引。值与Pattern.match()和Pattern.seach()方法的同名参数相同。\n",
    "\n",
    "4.endpos: 文本中正则表达式结束搜索的索引。值与Pattern.match()和Pattern.seach()方法的同名参数相同。\n",
    "\n",
    "5.lastindex: 最后一个被捕获的分组在文本中的索引。如果没有被捕获的分组，将为None。\n",
    "\n",
    "6.lastgroup: 最后一个被捕获的分组的别名。如果这个分组没有别名或者没有被捕获的分组，将为None。\n",
    "\n",
    "方法：\n",
    "\n",
    "1.group([group1, …]):\n",
    "获得一个或多个分组截获的字符串；指定多个参数时将以元组形式返回。group1可以使用编号也可以使用别名；编号0代表整个匹配的子串；不填写参数时，返回group(0)；没有截获字符串的组返回None；截获了多次的组返回最后一次截获的子串。\n",
    "\n",
    "2.groups([default]):\n",
    "以元组形式返回全部分组截获的字符串。相当于调用group(1,2,…last)。default表示没有截获字符串的组以这个值替代，默认为None。\n",
    "\n",
    "3.groupdict([default]):\n",
    "返回以有别名的组的别名为键、以该组截获的子串为值的字典，没有别名的组不包含在内。default含义同上。\n",
    "\n",
    "4.start([group]):\n",
    "返回指定的组截获的子串在string中的起始索引（子串第一个字符的索引）。group默认值为0。\n",
    "\n",
    "5.end([group]):\n",
    "返回指定的组截获的子串在string中的结束索引（子串最后一个字符的索引+1）。group默认值为0。\n",
    "\n",
    "6.span([group]):\n",
    "返回(start(group), end(group))。\n",
    "\n",
    "7.expand(template):\n",
    "将匹配到的分组代入template中然后返回。template中可以使用\\id或\\g、\\g引用分组，但不能使用编号0。\\id与\\g是等价的；但\\10将被认为是第10个分组，如果你想表达\\1之后是字符’0’，只能使用\\g0。"
   ]
  },
  {
   "cell_type": "code",
   "execution_count": 20,
   "metadata": {
    "collapsed": false
   },
   "outputs": [
    {
     "ename": "error",
     "evalue": "unknown specifier: ?P.",
     "output_type": "error",
     "traceback": [
      "\u001b[0;31m---------------------------------------------------------------------------\u001b[0m",
      "\u001b[0;31merror\u001b[0m                                     Traceback (most recent call last)",
      "\u001b[0;32m<ipython-input-20-549a11734796>\u001b[0m in \u001b[0;36m<module>\u001b[0;34m()\u001b[0m\n\u001b[1;32m      4\u001b[0m \u001b[0;32mimport\u001b[0m \u001b[0mre\u001b[0m\u001b[0;34m\u001b[0m\u001b[0m\n\u001b[1;32m      5\u001b[0m \u001b[0;31m# 匹配如下内容：单词+空格+单词+任意字符\u001b[0m\u001b[0;34m\u001b[0m\u001b[0;34m\u001b[0m\u001b[0m\n\u001b[0;32m----> 6\u001b[0;31m \u001b[0mm\u001b[0m \u001b[0;34m=\u001b[0m \u001b[0mre\u001b[0m\u001b[0;34m.\u001b[0m\u001b[0mmatch\u001b[0m\u001b[0;34m(\u001b[0m\u001b[0;34mr'(\\w+) (\\w+)(?P.*)'\u001b[0m\u001b[0;34m,\u001b[0m \u001b[0;34m'hello world!'\u001b[0m\u001b[0;34m)\u001b[0m\u001b[0;34m\u001b[0m\u001b[0m\n\u001b[0m\u001b[1;32m      7\u001b[0m \u001b[0;34m\u001b[0m\u001b[0m\n\u001b[1;32m      8\u001b[0m \u001b[0;32mprint\u001b[0m \u001b[0;34m\"m.string:\"\u001b[0m\u001b[0;34m,\u001b[0m \u001b[0mm\u001b[0m\u001b[0;34m.\u001b[0m\u001b[0mstring\u001b[0m\u001b[0;34m\u001b[0m\u001b[0m\n",
      "\u001b[0;32m//anaconda/lib/python2.7/re.pyc\u001b[0m in \u001b[0;36mmatch\u001b[0;34m(pattern, string, flags)\u001b[0m\n\u001b[1;32m    139\u001b[0m     \"\"\"Try to apply the pattern at the start of the string, returning\n\u001b[1;32m    140\u001b[0m     a match object, or None if no match was found.\"\"\"\n\u001b[0;32m--> 141\u001b[0;31m     \u001b[0;32mreturn\u001b[0m \u001b[0m_compile\u001b[0m\u001b[0;34m(\u001b[0m\u001b[0mpattern\u001b[0m\u001b[0;34m,\u001b[0m \u001b[0mflags\u001b[0m\u001b[0;34m)\u001b[0m\u001b[0;34m.\u001b[0m\u001b[0mmatch\u001b[0m\u001b[0;34m(\u001b[0m\u001b[0mstring\u001b[0m\u001b[0;34m)\u001b[0m\u001b[0;34m\u001b[0m\u001b[0m\n\u001b[0m\u001b[1;32m    142\u001b[0m \u001b[0;34m\u001b[0m\u001b[0m\n\u001b[1;32m    143\u001b[0m \u001b[0;32mdef\u001b[0m \u001b[0msearch\u001b[0m\u001b[0;34m(\u001b[0m\u001b[0mpattern\u001b[0m\u001b[0;34m,\u001b[0m \u001b[0mstring\u001b[0m\u001b[0;34m,\u001b[0m \u001b[0mflags\u001b[0m\u001b[0;34m=\u001b[0m\u001b[0;36m0\u001b[0m\u001b[0;34m)\u001b[0m\u001b[0;34m:\u001b[0m\u001b[0;34m\u001b[0m\u001b[0m\n",
      "\u001b[0;32m//anaconda/lib/python2.7/re.pyc\u001b[0m in \u001b[0;36m_compile\u001b[0;34m(*key)\u001b[0m\n\u001b[1;32m    249\u001b[0m         \u001b[0mp\u001b[0m \u001b[0;34m=\u001b[0m \u001b[0msre_compile\u001b[0m\u001b[0;34m.\u001b[0m\u001b[0mcompile\u001b[0m\u001b[0;34m(\u001b[0m\u001b[0mpattern\u001b[0m\u001b[0;34m,\u001b[0m \u001b[0mflags\u001b[0m\u001b[0;34m)\u001b[0m\u001b[0;34m\u001b[0m\u001b[0m\n\u001b[1;32m    250\u001b[0m     \u001b[0;32mexcept\u001b[0m \u001b[0merror\u001b[0m\u001b[0;34m,\u001b[0m \u001b[0mv\u001b[0m\u001b[0;34m:\u001b[0m\u001b[0;34m\u001b[0m\u001b[0m\n\u001b[0;32m--> 251\u001b[0;31m         \u001b[0;32mraise\u001b[0m \u001b[0merror\u001b[0m\u001b[0;34m,\u001b[0m \u001b[0mv\u001b[0m \u001b[0;31m# invalid expression\u001b[0m\u001b[0;34m\u001b[0m\u001b[0m\n\u001b[0m\u001b[1;32m    252\u001b[0m     \u001b[0;32mif\u001b[0m \u001b[0;32mnot\u001b[0m \u001b[0mbypass_cache\u001b[0m\u001b[0;34m:\u001b[0m\u001b[0;34m\u001b[0m\u001b[0m\n\u001b[1;32m    253\u001b[0m         \u001b[0;32mif\u001b[0m \u001b[0mlen\u001b[0m\u001b[0;34m(\u001b[0m\u001b[0m_cache\u001b[0m\u001b[0;34m)\u001b[0m \u001b[0;34m>=\u001b[0m \u001b[0m_MAXCACHE\u001b[0m\u001b[0;34m:\u001b[0m\u001b[0;34m\u001b[0m\u001b[0m\n",
      "\u001b[0;31merror\u001b[0m: unknown specifier: ?P."
     ]
    }
   ],
   "source": [
    "# -*- coding: utf-8 -*-\n",
    "#一个简单的match实例\n",
    " \n",
    "import re\n",
    "# 匹配如下内容：单词+空格+单词+任意字符\n",
    "m = re.match(r'(\\w+) (\\w+)(?P.*)', 'hello world!')\n",
    " \n",
    "print \"m.string:\", m.string\n",
    "print \"m.re:\", m.re\n",
    "print \"m.pos:\", m.pos\n",
    "print \"m.endpos:\", m.endpos\n",
    "print \"m.lastindex:\", m.lastindex\n",
    "print \"m.lastgroup:\", m.lastgroup\n",
    "print \"m.group():\", m.group()\n",
    "print \"m.group(1,2):\", m.group(1, 2)\n",
    "print \"m.groups():\", m.groups()\n",
    "print \"m.groupdict():\", m.groupdict()\n",
    "print \"m.start(2):\", m.start(2)\n",
    "print \"m.end(2):\", m.end(2)\n",
    "print \"m.span(2):\", m.span(2)\n",
    "print r\"m.expand(r'\\g \\g\\g'):\", m.expand(r'\\2 \\1\\3')\n",
    " \n",
    "### output ###\n",
    "# m.string: hello world!\n",
    "# m.re: \n",
    "# m.pos: 0\n",
    "# m.endpos: 12\n",
    "# m.lastindex: 3\n",
    "# m.lastgroup: sign\n",
    "# m.group(1,2): ('hello', 'world')\n",
    "# m.groups(): ('hello', 'world', '!')\n",
    "# m.groupdict(): {'sign': '!'}\n",
    "# m.start(2): 6\n",
    "# m.end(2): 11\n",
    "# m.span(2): (6, 11)\n",
    "# m.expand(r'\\2 \\1\\3'): world hello!"
   ]
  },
  {
   "cell_type": "markdown",
   "metadata": {},
   "source": [
    "## re.search(pattern, string[, flags])"
   ]
  },
  {
   "cell_type": "markdown",
   "metadata": {},
   "source": [
    "search方法与match方法极其类似，区别在于match()函数只检测re是不是在string的开始位置匹配，search()会扫描整个string查找匹配，match（）只有在0位置匹配成功的话才有返回，如果不是开始位置匹配成功的话，match()就返回None。同样，search方法的返回对象同样match()返回对象的方法和属性。我们用一个例子感受一下"
   ]
  },
  {
   "cell_type": "code",
   "execution_count": 26,
   "metadata": {
    "collapsed": false
   },
   "outputs": [
    {
     "name": "stdout",
     "output_type": "stream",
     "text": [
      "hello\n",
      "hello\n",
      "hello\n",
      "hello\n"
     ]
    }
   ],
   "source": [
    "# -*- coding: utf-8 -*-\n",
    "#re.search搜索整个字符串找到匹配模式，不仅仅是第一个字符,但是其也只是找到一个\n",
    "#导入re模块\n",
    "import re\n",
    " \n",
    "# 将正则表达式编译成Pattern对象，注意hello前面的r的意思是“原生字符串”\n",
    "pattern = re.compile(r'hello')\n",
    " \n",
    "# 使用re.match匹配文本，获得匹配结果，无法匹配时将返回None\n",
    "result1 = re.search(pattern,'hels hello')\n",
    "result2 = re.search(pattern,'helloo CQC hello!')\n",
    "result3 = re.search(pattern,'sa hello CQC!')\n",
    "result4 = re.search(pattern,'hello CQC hello!')\n",
    " \n",
    "#如果1匹配成功\n",
    "if result1:\n",
    "    # 使用Match获得分组信息\n",
    "    print result1.group()\n",
    "else:\n",
    "    print '1匹配失败！'\n",
    " \n",
    " \n",
    "#如果2匹配成功\n",
    "if result2:\n",
    "    # 使用Match获得分组信息\n",
    "    print result2.group()\n",
    "else:\n",
    "    print '2匹配失败！'\n",
    " \n",
    " \n",
    "#如果3匹配成功\n",
    "if result3:\n",
    "    # 使用Match获得分组信息\n",
    "    print result3.group()\n",
    "else:\n",
    "    print '3匹配失败！'\n",
    " \n",
    "#如果4匹配成功\n",
    "if result4:\n",
    "    # 使用Match获得分组信息\n",
    "    print result4.group()\n",
    "else:\n",
    "    print '4匹配失败！'"
   ]
  },
  {
   "cell_type": "markdown",
   "metadata": {},
   "source": [
    "## re.split(pattern, string[, maxsplit])"
   ]
  },
  {
   "cell_type": "markdown",
   "metadata": {},
   "source": [
    "按照能够匹配的子串将string分割后返回列表。maxsplit用于指定最大分割次数，不指定将全部分割。我们通过下面的例子感受一下。"
   ]
  },
  {
   "cell_type": "code",
   "execution_count": 27,
   "metadata": {
    "collapsed": false
   },
   "outputs": [
    {
     "name": "stdout",
     "output_type": "stream",
     "text": [
      "['one', 'two', 'three', 'four', '']\n"
     ]
    }
   ],
   "source": [
    "import re\n",
    " \n",
    "pattern = re.compile(r'\\d+')\n",
    "print re.split(pattern,'one1two2three3four4')\n",
    " \n",
    "### 输出 ###\n",
    "# ['one', 'two', 'three', 'four', '']"
   ]
  },
  {
   "cell_type": "markdown",
   "metadata": {},
   "source": [
    "## re.findall(pattern, string[, flags])"
   ]
  },
  {
   "cell_type": "markdown",
   "metadata": {},
   "source": [
    "搜索string，以列表形式返回全部能匹配的子串。我们通过这个例子来感受一下"
   ]
  },
  {
   "cell_type": "code",
   "execution_count": 35,
   "metadata": {
    "collapsed": false
   },
   "outputs": [
    {
     "name": "stdout",
     "output_type": "stream",
     "text": [
      "1\n",
      "NONE\n",
      "['1', '2', '3', '4']\n"
     ]
    }
   ],
   "source": [
    "import re\n",
    "\n",
    "pattern = re.compile(r'\\d+')\n",
    "result1 = re.search(pattern,'one1two2three3four4')\n",
    "print result1.group()\n",
    "result2 = re.match(pattern,'one1two2three3four4')\n",
    "print \"NONE\"\n",
    "print re.findall(pattern,'one1two2three3four4')\n",
    "### 输出 ###\n",
    "# ['1', '2', '3', '4']"
   ]
  },
  {
   "cell_type": "markdown",
   "metadata": {},
   "source": [
    "## re.finditer(pattern, string[, flags])"
   ]
  },
  {
   "cell_type": "markdown",
   "metadata": {},
   "source": [
    "搜索string，返回一个顺序访问每一个匹配结果（Match对象）的迭代器。我们通过下面的例子来感受一下"
   ]
  },
  {
   "cell_type": "code",
   "execution_count": 36,
   "metadata": {
    "collapsed": false
   },
   "outputs": [
    {
     "name": "stdout",
     "output_type": "stream",
     "text": [
      "1 2 3 4\n"
     ]
    }
   ],
   "source": [
    "import re\n",
    "\n",
    "pattern = re.compile(r'\\d+')\n",
    "for m in re.finditer(pattern,'one1two2three3four4'):\n",
    "    print m.group(),\n",
    "\n",
    "### 输出 ###\n",
    "# 1 2 3 4"
   ]
  },
  {
   "cell_type": "markdown",
   "metadata": {},
   "source": [
    "## re.sub(pattern, repl, string[, count])"
   ]
  },
  {
   "cell_type": "markdown",
   "metadata": {},
   "source": [
    "使用repl替换string中每一个匹配的子串后返回替换后的字符串。\n",
    "当repl是一个字符串时，可以使用\\id或\\g、\\g引用分组，但不能使用编号0。\n",
    "当repl是一个方法时，这个方法应当只接受一个参数（Match对象），并返回一个字符串用于替换（返回的字符串中不能再引用分组）。\n",
    "count用于指定最多替换次数，不指定时全部替换。"
   ]
  },
  {
   "cell_type": "code",
   "execution_count": 38,
   "metadata": {
    "collapsed": false
   },
   "outputs": [
    {
     "name": "stdout",
     "output_type": "stream",
     "text": [
      "say i, world hello!\n",
      "I Say, Hello World!\n"
     ]
    }
   ],
   "source": [
    "import re\n",
    "\n",
    "pattern = re.compile(r'(\\w+) (\\w+)')\n",
    "s = 'i say, hello world!'\n",
    "\n",
    "print re.sub(pattern,r'\\2 \\1', s)\n",
    "\n",
    "def func(m):\n",
    "    return m.group(1).title() + ' ' + m.group(2).title()\n",
    "\n",
    "print re.sub(pattern,func, s)\n",
    "\n",
    "### output ###\n",
    "# say i, world hello!\n",
    "# I Say, Hello World!\n",
    " "
   ]
  },
  {
   "cell_type": "markdown",
   "metadata": {},
   "source": [
    "## re.subn(pattern, repl, string[, count])"
   ]
  },
  {
   "cell_type": "code",
   "execution_count": 39,
   "metadata": {
    "collapsed": false
   },
   "outputs": [
    {
     "name": "stdout",
     "output_type": "stream",
     "text": [
      "('say i, world hello!', 2)\n",
      "('I Say, Hello World!', 2)\n"
     ]
    }
   ],
   "source": [
    "import re\n",
    " \n",
    "pattern = re.compile(r'(\\w+) (\\w+)')\n",
    "s = 'i say, hello world!'\n",
    " \n",
    "print re.subn(pattern,r'\\2 \\1', s)\n",
    " \n",
    "def func(m):\n",
    "    return m.group(1).title() + ' ' + m.group(2).title()\n",
    " \n",
    "print re.subn(pattern,func, s)\n",
    " \n",
    "### output ###\n",
    "# ('say i, world hello!', 2)\n",
    "# ('I Say, Hello World!', 2)"
   ]
  },
  {
   "cell_type": "markdown",
   "metadata": {},
   "source": [
    "# Python Re模块的另一种使用方式"
   ]
  },
  {
   "cell_type": "markdown",
   "metadata": {},
   "source": [
    "在上面我们介绍了7个工具方法，例如match，search等等，不过调用方式都是 re.match，re.search的方式，其实还有另外一种调用方式，可以通过pattern.match，pattern.search调用，这样调用便不用将pattern作为第一个参数传入了，大家想怎样调用皆可。"
   ]
  },
  {
   "cell_type": "code",
   "execution_count": null,
   "metadata": {
    "collapsed": true
   },
   "outputs": [],
   "source": [
    " match(string[, pos[, endpos]]) | re.match(pattern, string[, flags])\n",
    " search(string[, pos[, endpos]]) | re.search(pattern, string[, flags])\n",
    " split(string[, maxsplit]) | re.split(pattern, string[, maxsplit])\n",
    " findall(string[, pos[, endpos]]) | re.findall(pattern, string[, flags])\n",
    " finditer(string[, pos[, endpos]]) | re.finditer(pattern, string[, flags])\n",
    " sub(repl, string[, count]) | re.sub(pattern, repl, string[, count])\n",
    " subn(repl, string[, count]) |re.sub(pattern, repl, string[, count])"
   ]
  },
  {
   "cell_type": "code",
   "execution_count": null,
   "metadata": {
    "collapsed": true
   },
   "outputs": [],
   "source": []
  },
  {
   "cell_type": "code",
   "execution_count": null,
   "metadata": {
    "collapsed": true
   },
   "outputs": [],
   "source": []
  },
  {
   "cell_type": "code",
   "execution_count": null,
   "metadata": {
    "collapsed": true
   },
   "outputs": [],
   "source": []
  },
  {
   "cell_type": "code",
   "execution_count": null,
   "metadata": {
    "collapsed": true
   },
   "outputs": [],
   "source": []
  },
  {
   "cell_type": "code",
   "execution_count": null,
   "metadata": {
    "collapsed": true
   },
   "outputs": [],
   "source": []
  },
  {
   "cell_type": "code",
   "execution_count": null,
   "metadata": {
    "collapsed": true
   },
   "outputs": [],
   "source": []
  }
 ],
 "metadata": {
  "kernelspec": {
   "display_name": "Python 2",
   "language": "python",
   "name": "python2"
  },
  "language_info": {
   "codemirror_mode": {
    "name": "ipython",
    "version": 2
   },
   "file_extension": ".py",
   "mimetype": "text/x-python",
   "name": "python",
   "nbconvert_exporter": "python",
   "pygments_lexer": "ipython2",
   "version": "2.7.9"
  }
 },
 "nbformat": 4,
 "nbformat_minor": 0
}
