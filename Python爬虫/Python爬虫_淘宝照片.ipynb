{
 "cells": [
  {
   "cell_type": "markdown",
   "metadata": {},
   "source": [
    "本篇目标\n",
    "\n",
    "1.抓取淘宝MM的姓名，头像，年龄\n",
    "\n",
    "2.抓取每一个MM的资料简介以及写真图片\n",
    "\n",
    "3.把每一个MM的写真图片按照文件夹保存到本地\n",
    "\n",
    "4.熟悉文件保存的过程"
   ]
  },
  {
   "cell_type": "markdown",
   "metadata": {},
   "source": [
    "# URL的格式"
   ]
  },
  {
   "cell_type": "markdown",
   "metadata": {},
   "source": [
    "在这里我们用到的URL是 http://mm.taobao.com/json/request_top_list.htm?page=1，问号前面是基地址，后面的参数page是代表第几页，可以随意更换地址。点击开之后，会发现有一些淘宝MM的简介，并附有超链接链接到个人详情页面。\n",
    "\n",
    "我们需要抓取本页面的头像地址，MM姓名，MM年龄，MM居住地，以及MM的个人详情页面地址。"
   ]
  },
  {
   "cell_type": "markdown",
   "metadata": {},
   "source": [
    "# 抓取简要信息"
   ]
  },
  {
   "cell_type": "markdown",
   "metadata": {},
   "source": [
    "相信大家经过上几次的实战，对抓取和提取页面的地址已经非常熟悉了，这里没有什么难度了，我们首先抓取本页面的MM详情页面地址，姓名，年龄等等的信息打印出来，直接贴代码如下"
   ]
  },
  {
   "cell_type": "code",
   "execution_count": 4,
   "metadata": {
    "collapsed": false
   },
   "outputs": [
    {
     "name": "stdout",
     "output_type": "stream",
     "text": [
      "http://mm.taobao.com/json/request_top_list.htm?page=1\n",
      "http://mm.taobao.com/687471686.htm http://gtd.alicdn.com/sns_logo/i6/TB1R0imHpXXXXauapXXSutbFXXX.jpg_60x60.jpg 田媛媛 25 广州市\n",
      "http://mm.taobao.com/405095521.htm http://gtd.alicdn.com/sns_logo/i5/TB1FM8wGFXXXXb1XXXXSutbFXXX.jpg_60x60.jpg 朱亦颖 25 杭州市\n",
      "http://mm.taobao.com/631300490.htm http://gtd.alicdn.com/sns_logo/i8/TB1T6f_GVXXXXXHaXXXSutbFXXX.jpg_60x60.jpg 崔辰辰 26 杭州市\n",
      "http://mm.taobao.com/414457129.htm http://gtd.alicdn.com/sns_logo/i7/TB1C53ZHFXXXXajXVXXSutbFXXX.jpg_60x60.jpg 大猫儿 29 广州市\n",
      "http://mm.taobao.com/141234233.htm http://gtd.alicdn.com/sns_logo/i1/TB1P980FVXXXXXQXFXXSutbFXXX.jpg_60x60.jpg 金甜甜 24 广州市\n",
      "http://mm.taobao.com/96614110.htm http://gtd.alicdn.com/sns_logo/i4/TB1NgrzHpXXXXXdXFXXSutbFXXX.jpg_60x60.jpg 紫轩 28 杭州市\n",
      "http://mm.taobao.com/37448401.htm http://gtd.alicdn.com/sns_logo/i8/TB1bU.UFFXXXXc0XpXXSutbFXXX.jpg_60x60.jpg 谢婷婷 26 杭州市\n",
      "http://mm.taobao.com/74386764.htm http://gtd.alicdn.com/sns_logo/i8/TB1HmB7GXXXXXbHXFXXSutbFXXX.jpg_60x60.jpg 夏晨洁 26 杭州市\n",
      "http://mm.taobao.com/523216808.htm http://gtd.alicdn.com/sns_logo/i6/TB16ZtYHVXXXXa9XVXXSutbFXXX.jpg_60x60.jpg Cherry 27 广州市\n",
      "http://mm.taobao.com/46599595.htm http://gtd.alicdn.com/sns_logo/i7/TB1QPszGXXXXXbSXVXXSutbFXXX.jpg_60x60.jpg 雪倩nika 24 杭州市\n"
     ]
    }
   ],
   "source": [
    "# -*- coding:utf-8 -*-\n",
    "import urllib\n",
    "import urllib2\n",
    "import re\n",
    "\n",
    "class Spider:\n",
    "    \n",
    "    def __init__(self):\n",
    "        self.siteURL = 'http://mm.taobao.com/json/request_top_list.htm'\n",
    "        \n",
    "    def getPage(self,pageIndex):\n",
    "        url = self.siteURL + \"?page=\" + str(pageIndex)\n",
    "        print url\n",
    "        request = urllib2.Request(url)\n",
    "        response = urllib2.urlopen(request)\n",
    "        return response.read().decode('gbk')\n",
    "    \n",
    "    def getContents(self,pageIndex):\n",
    "        page = self.getPage(pageIndex)\n",
    "        pattern = re.compile('<div class=\"list-item\".*?pic-word.*?<a href=\"(.*?)\".*?<img src=\"(.*?)\".*?<a class=\"lady-name.*?>(.*?)</a>.*?<strong>(.*?)</strong>.*?<span>(.*?)</span>',re.S)\n",
    "        items = re.findall(pattern,page)\n",
    "        for item in items:\n",
    "            print  item[0],item[1],item[2],item[3],item[4]\n",
    "\n",
    "spider = Spider()\n",
    "spider.getContents(1)"
   ]
  },
  {
   "cell_type": "markdown",
   "metadata": {},
   "source": [
    "# 文件写入简介"
   ]
  },
  {
   "cell_type": "markdown",
   "metadata": {},
   "source": [
    "这里，有写入图片和写入文本两种方式"
   ]
  },
  {
   "cell_type": "markdown",
   "metadata": {},
   "source": [
    "## 写入图片"
   ]
  },
  {
   "cell_type": "code",
   "execution_count": null,
   "metadata": {
    "collapsed": true
   },
   "outputs": [],
   "source": [
    "#传入图片地址，文件名，保存单张图片\n",
    "def saveImg(self,imageURL,fileName):\n",
    "    u = urllib.urlopen(imageUrl)\n",
    "    data = u.read()\n",
    "    f = open(fileName,'wb')\n",
    "    f.write(data)\n",
    "    f.close()"
   ]
  },
  {
   "cell_type": "markdown",
   "metadata": {},
   "source": [
    "## 写入文本"
   ]
  },
  {
   "cell_type": "code",
   "execution_count": null,
   "metadata": {
    "collapsed": true
   },
   "outputs": [],
   "source": [
    "#写入文本信息\n",
    "def saveBrief(self,content,name):\n",
    "    fileName = name + \"/\" + name +'.txt'\n",
    "    f = open(fileName,'w+')\n",
    "    print u\"正在保存她的个人信息为\",fileName\n",
    "    f.write(content.encode('utf-8'))"
   ]
  },
  {
   "cell_type": "markdown",
   "metadata": {},
   "source": [
    "## 创建新目录"
   ]
  },
  {
   "cell_type": "code",
   "execution_count": null,
   "metadata": {
    "collapsed": true
   },
   "outputs": [],
   "source": [
    "#创建新目录\n",
    "def mkdir(self,path):\n",
    "    path = path.strip()\n",
    "    #判断路径是否存在\n",
    "    #存在True\n",
    "    #不存在False\n",
    "    isExists = os.path.exists(path)\n",
    "        if not isExists:\n",
    "            #如果不存在则创建目录\n",
    "            #创建目录操作函数\n",
    "            os.mkdirs(path)\n",
    "            return True\n",
    "        else:\n",
    "            #如果目录存在则不创建，并提示已经存在\n",
    "            return False"
   ]
  },
  {
   "cell_type": "markdown",
   "metadata": {},
   "source": [
    "# 代码完善"
   ]
  },
  {
   "cell_type": "code",
   "execution_count": 77,
   "metadata": {
    "collapsed": false
   },
   "outputs": [],
   "source": [
    "__author__ = 'younggy'\n",
    "# -*- coding:utf-8 -*-\n",
    "import urllib\n",
    "import urllib2\n",
    "import re\n",
    "import os\n",
    "\n",
    "#处理页面标签类\n",
    "class Tool:\n",
    "    #去除img标签,1-7位空格,&nbsp;\n",
    "    removeImg = re.compile('<img.*?>| {1,7}|&nbsp;')\n",
    "    #删除超链接标签\n",
    "    removeAddr = re.compile('<a.*?>|</a>')\n",
    "    #把换行的标签换为\\n\n",
    "    replaceLine = re.compile('<tr>|<div>|</div>|</p>')\n",
    "    #将表格制表<td>替换为\\t\n",
    "    replaceTD= re.compile('<td>')\n",
    "    #将换行符或双换行符替换为\\n\n",
    "    replaceBR = re.compile('<br><br>|<br>')\n",
    "    #将其余标签剔除\n",
    "    removeExtraTag = re.compile('<.*?>')\n",
    "    #将多行空行删除\n",
    "    removeNoneLine = re.compile('\\n+')\n",
    "    def replace(self,x):\n",
    "        x = re.sub(self.removeImg,\"\",x)\n",
    "        x = re.sub(self.removeAddr,\"\",x)\n",
    "        x = re.sub(self.replaceLine,\"\\n\",x)\n",
    "        x = re.sub(self.replaceTD,\"\\t\",x)\n",
    "        x = re.sub(self.replaceBR,\"\\n\",x)\n",
    "        x = re.sub(self.removeExtraTag,\"\",x)\n",
    "        x = re.sub(self.removeNoneLine,\"\\n\",x)\n",
    "        #strip()将前后多余内容删除\n",
    "        return x.strip()\n",
    "    \n",
    "class Spider:\n",
    "    \n",
    "    #页面初始化\n",
    "    def __init__(self):\n",
    "        self.siteURL = 'http://mm.taobao.com/json/request_top_list.htm'\n",
    "        self.tool = Tool()\n",
    "\n",
    "#**********************索引页面***************************\n",
    "    #获取索引页面内容\n",
    "    def getPage(self,pageIndex):\n",
    "        url = self.siteURL + '?page=' +str(pageIndex)\n",
    "        request = urllib2.Request(url)\n",
    "        response = urllib2.urlopen(request)\n",
    "        return response.read().decode('gbk')\n",
    "    \n",
    "    #获取索引界面所有MM的信息，list格式\n",
    "    def getContents(self,pageIndex):\n",
    "        page = self.getPage(pageIndex)\n",
    "        pattern = re.compile('<div class=\"list-item\".*?pic-word.*?<a href=\"(.*?)\".*?<img src=\"(.*?)\".*?<a class=\"lady-name.*?>(.*?)</a>.*?<strong>(.*?)</strong>.*?<span>(.*?)</span>',re.S)\n",
    "        items = re.findall(pattern,page)\n",
    "        contents = []\n",
    "        for item in items:\n",
    "            contens.append([item[0],item[1],item[2],item[3],item[4]])\n",
    "        return contents\n",
    "#**********************索引页面***************************\n",
    "\n",
    "#**********************MM个人页面***************************\n",
    "    #获取MM个人详情页面\n",
    "    def getDetailPage(self,infoURL):\n",
    "        response = urllib2.urlopen(infoURL)\n",
    "        return response.read().decode('gbk')\n",
    "    \n",
    "    #获取个人文字简介\n",
    "    def getBrief(self,page):\n",
    "        pattern = re.compile('<div class=\"mm-aixiu-content\".*?>(.*?)<!--',re.S)\n",
    "        result = re.search(pattern,page)\n",
    "        #return result\n",
    "        return self.tool.replace(result.group(1))\n",
    "    \n",
    "    #获取页面所有图片\n",
    "    def getAllImg(self,page):\n",
    "        pattern = re.compile('<div class=\"mm-aixiu-content\".*?>(.*?)<!--',re.S)\n",
    "        content = re.search(pattern,page)\n",
    "        #从代码中提取图片\n",
    "        patternImg = re.compile('<img.*?src=\"(.*?)\"/>',re.S)\n",
    "        images = re.findall(patternImg,content.group(1))\n",
    "        return images\n",
    "    \n",
    "    \n",
    "#**********************MM个人页面***************************\n",
    "\n",
    "#**********************MM存储内容***************************\n",
    "    \n",
    "    #创建新目录\n",
    "    def mkdir(self,path):\n",
    "        path = path.strip()\n",
    "        # 判断路径是否存在\n",
    "        # 存在     True\n",
    "        # 不存在   False\n",
    "        isExists=os.path.exists(path)\n",
    "        # 判断结果\n",
    "        if not isExists:\n",
    "            # 如果不存在则创建目录\n",
    "            print u\"偷偷新建了名字叫做\",path,u'的文件夹'\n",
    "            # 创建目录操作函数\n",
    "            os.makedirs(path)\n",
    "            return True\n",
    "        else:\n",
    "            # 如果目录存在则不创建，并提示目录已存在\n",
    "            print u\"名为\",path,'的文件夹已经创建成功'\n",
    "            return False\n",
    "    \n",
    "    #保存单张写真照片\n",
    "    def saveImg(self,imageURL,fileName):\n",
    "        u = urllib.urlopen(imageURL)\n",
    "        data = u.read()\n",
    "        f = open(fileName,'wb')\n",
    "        print u\"正在保存她的单张照片为\",fileName\n",
    "        f.write(data)\n",
    "        f.close()\n",
    "            \n",
    "    #保存多张写真照片\n",
    "    def saveImgs(self,images,name):\n",
    "        number = 1\n",
    "        print u'发现',name,u\"共有\",len(images),u'张照片'\n",
    "        for imageURL in images:\n",
    "            splitPath = imageURL.split('.')\n",
    "            #获取图像的格式jpg\n",
    "            fTail = splitPath.pop()\n",
    "            if len(fTail)>3:\n",
    "                fTail = 'jpg'\n",
    "            fileName = name + '/' + str(number) + '.' + fTail\n",
    "            self.saveImg(imageURL,fileName)\n",
    "            number += 1\n",
    "       \n",
    "    #保存头像\n",
    "    def saveIcon(self,iconURL,name):\n",
    "        splitPath = iconURL.split('.')\n",
    "        fTail = splitPath.pop()\n",
    "        fileName = name + \"/icon.\" + fTail\n",
    "        self.saveImg(iconURL,fileName)\n",
    "       \n",
    "    #保存个人简介\n",
    "    def saveBrief(self,content,name):\n",
    "        fileName = name + \"/\" + name + \".txt\"\n",
    "        f = open(fileName,\"w+\")\n",
    "        print u\"正在偷偷保存她的个人信息为\",fileName\n",
    "        f.write(content.encode('utf-8'))\n",
    "        \n",
    "    \n",
    "#**********************MM存储内容***************************\n",
    "\n",
    "    #将一页淘宝MM的信息保存起来\n",
    "    def savePageInfo(self,pageIndex):\n",
    "        #获取第一页淘宝MM列表\n",
    "        contents = self.getContents(pageIndex)\n",
    "        for item in contents:\n",
    "            #item[0]个人详情URL,item[1]头像URL,item[2]姓名,item[3]年龄,item[4]居住地\n",
    "            print u\"发现一位模特,名字叫\",item[2],u\"芳龄\",item[3],u\",她在\",item[4]\n",
    "            print u\"正在偷偷地保存\",item[2],\"的信息\"\n",
    "            print u\"又意外地发现她的个人地址是\",item[0]\n",
    "            #个人详情页面的URL\n",
    "            detailURL = item[0]\n",
    "            #得到个人详情页面代码\n",
    "            detailPage = self.getDetailPage(detailURL)\n",
    "            #获取个人简介\n",
    "            brief = self.getBrief(detailPage)\n",
    "            #获取所有图片列表\n",
    "            images = self.getAllImg(detailPage)\n",
    "            self.mkdir(item[2])\n",
    "            #保存个人简介\n",
    "            self.saveBrief(brief,item[2])\n",
    "            #保存头像\n",
    "            self.saveIcon(item[1],item[2])\n",
    "            #保存图片\n",
    "            self.saveImgs(images,item[2])\n",
    "            \n",
    "    #传入起止页码，获取MM图片\n",
    "    def savePagesInfo(self,start,end):\n",
    "        for i in range(start,end+1):\n",
    "            print u\"正在偷偷寻找第\",i,u\"个地方，看看MM们在不在\"\n",
    "            self.savePageInfo(i)\n",
    "        "
   ]
  },
  {
   "cell_type": "code",
   "execution_count": 82,
   "metadata": {
    "collapsed": false
   },
   "outputs": [
    {
     "name": "stdout",
     "output_type": "stream",
     "text": [
      "发现 张 共有 79 张照片\n",
      "正在保存她的单张照片为 张/1.jpg\n",
      "正在保存她的单张照片为 张/2.jpg\n",
      "正在保存她的单张照片为 张/3.jpg\n",
      "正在保存她的单张照片为 张/4.jpg\n",
      "正在保存她的单张照片为 张/5.jpg\n",
      "正在保存她的单张照片为 张/6.jpg\n",
      "正在保存她的单张照片为 张/7.jpg\n",
      "正在保存她的单张照片为 张/8.jpg\n",
      "正在保存她的单张照片为 张/9.jpg\n",
      "正在保存她的单张照片为 张/10.jpg\n",
      "正在保存她的单张照片为 张/11.jpg\n",
      "正在保存她的单张照片为 张/12.jpg\n",
      "正在保存她的单张照片为 张/13.jpg\n",
      "正在保存她的单张照片为 张/14.jpg\n",
      "正在保存她的单张照片为 张/15.jpg\n",
      "正在保存她的单张照片为 张/16.jpg\n",
      "正在保存她的单张照片为 张/17.jpg\n",
      "正在保存她的单张照片为 张/18.jpg\n",
      "正在保存她的单张照片为 张/19.jpg\n",
      "正在保存她的单张照片为 张/20.jpg\n",
      "正在保存她的单张照片为 张/21.jpg\n",
      "正在保存她的单张照片为 张/22.jpg\n",
      "正在保存她的单张照片为 张/23.jpg\n",
      "正在保存她的单张照片为 张/24.jpg\n",
      "正在保存她的单张照片为 张/25.jpg\n",
      "正在保存她的单张照片为 张/26.jpg\n",
      "正在保存她的单张照片为 张/27.jpg\n",
      "正在保存她的单张照片为 张/28.jpg\n",
      "正在保存她的单张照片为 张/29.jpg\n",
      "正在保存她的单张照片为 张/30.jpg\n",
      "正在保存她的单张照片为 张/31.jpg\n",
      "正在保存她的单张照片为 张/32.jpg\n",
      "正在保存她的单张照片为 张/33.jpg\n",
      "正在保存她的单张照片为 张/34.jpg\n",
      "正在保存她的单张照片为 张/35.jpg\n",
      "正在保存她的单张照片为 张/36.jpg\n",
      "正在保存她的单张照片为 张/37.jpg\n",
      "正在保存她的单张照片为 张/38.jpg\n",
      "正在保存她的单张照片为 张/39.jpg\n",
      "正在保存她的单张照片为 张/40.jpg\n",
      "正在保存她的单张照片为 张/41.jpg\n",
      "正在保存她的单张照片为 张/42.jpg\n",
      "正在保存她的单张照片为 张/43.jpg\n",
      "正在保存她的单张照片为 张/44.jpg\n",
      "正在保存她的单张照片为 张/45.jpg\n",
      "正在保存她的单张照片为 张/46.jpg\n",
      "正在保存她的单张照片为 张/47.jpg\n",
      "正在保存她的单张照片为 张/48.jpg\n",
      "正在保存她的单张照片为 张/49.jpg\n",
      "正在保存她的单张照片为 张/50.jpg\n",
      "正在保存她的单张照片为 张/51.jpg\n",
      "正在保存她的单张照片为 张/52.jpg\n",
      "正在保存她的单张照片为 张/53.jpg\n",
      "正在保存她的单张照片为 张/54.jpg\n",
      "正在保存她的单张照片为 张/55.jpg\n",
      "正在保存她的单张照片为 张/56.jpg\n",
      "正在保存她的单张照片为 张/57.jpg\n",
      "正在保存她的单张照片为 张/58.jpg\n",
      "正在保存她的单张照片为 张/59.jpg\n",
      "正在保存她的单张照片为 张/60.jpg\n",
      "正在保存她的单张照片为 张/61.jpg\n",
      "正在保存她的单张照片为 张/62.jpg\n",
      "正在保存她的单张照片为 张/63.jpg\n",
      "正在保存她的单张照片为 张/64.jpg\n",
      "正在保存她的单张照片为 张/65.jpg\n",
      "正在保存她的单张照片为 张/66.jpg\n",
      "正在保存她的单张照片为 张/67.jpg\n",
      "正在保存她的单张照片为 张/68.jpg\n",
      "正在保存她的单张照片为 张/69.jpg\n",
      "正在保存她的单张照片为 张/70.jpg\n",
      "正在保存她的单张照片为 张/71.jpg\n",
      "正在保存她的单张照片为 张/72.jpg\n",
      "正在保存她的单张照片为 张/73.jpg\n",
      "正在保存她的单张照片为 张/74.jpg\n",
      "正在保存她的单张照片为 张/75.jpg\n",
      "正在保存她的单张照片为 张/76.jpg\n",
      "正在保存她的单张照片为 张/77.jpg\n",
      "正在保存她的单张照片为 张/78.jpg\n",
      "正在保存她的单张照片为 张/79.jpg\n"
     ]
    }
   ],
   "source": [
    "#test\n",
    "s = Spider()\n",
    "page = s.getDetailPage('http://mm.taobao.com/74386764.htm')\n",
    "b = s.getBrief(page)\n",
    "c = s.getAllImg(page)\n",
    "s.saveImgs(c,u'张')"
   ]
  },
  {
   "cell_type": "code",
   "execution_count": 72,
   "metadata": {
    "collapsed": false
   },
   "outputs": [
    {
     "name": "stdout",
     "output_type": "stream",
     "text": [
      "jpg\n"
     ]
    }
   ],
   "source": [
    "print c[1].split('.').pop()"
   ]
  },
  {
   "cell_type": "code",
   "execution_count": 40,
   "metadata": {
    "collapsed": true
   },
   "outputs": [],
   "source": [
    "pattern = re.compile('hel(.*?)wor',re.S)\n",
    "s = 'hel123wor,hedsad.sadawor'\n",
    "result = re.search(pattern,s)"
   ]
  },
  {
   "cell_type": "code",
   "execution_count": 83,
   "metadata": {
    "collapsed": false
   },
   "outputs": [
    {
     "ename": "IOError",
     "evalue": "[Errno 2] No such file or directory: '/sa/a.txt'",
     "output_type": "error",
     "traceback": [
      "\u001b[0;31m---------------------------------------------------------------------------\u001b[0m",
      "\u001b[0;31mIOError\u001b[0m                                   Traceback (most recent call last)",
      "\u001b[0;32m<ipython-input-83-223d8d544fee>\u001b[0m in \u001b[0;36m<module>\u001b[0;34m()\u001b[0m\n\u001b[0;32m----> 1\u001b[0;31m \u001b[0mf\u001b[0m \u001b[0;34m=\u001b[0m \u001b[0mopen\u001b[0m\u001b[0;34m(\u001b[0m\u001b[0;34m'/sa/a.txt'\u001b[0m\u001b[0;34m,\u001b[0m\u001b[0;34m'w+'\u001b[0m\u001b[0;34m)\u001b[0m\u001b[0;34m\u001b[0m\u001b[0m\n\u001b[0m",
      "\u001b[0;31mIOError\u001b[0m: [Errno 2] No such file or directory: '/sa/a.txt'"
     ]
    }
   ],
   "source": [
    "f = open('/sa/a.txt','w+')"
   ]
  }
 ],
 "metadata": {
  "kernelspec": {
   "display_name": "Python 2",
   "language": "python",
   "name": "python2"
  },
  "language_info": {
   "codemirror_mode": {
    "name": "ipython",
    "version": 2
   },
   "file_extension": ".py",
   "mimetype": "text/x-python",
   "name": "python",
   "nbconvert_exporter": "python",
   "pygments_lexer": "ipython2",
   "version": "2.7.9"
  }
 },
 "nbformat": 4,
 "nbformat_minor": 0
}
