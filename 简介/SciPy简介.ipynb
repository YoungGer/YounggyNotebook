{
 "cells": [
  {
   "cell_type": "code",
   "execution_count": 7,
   "metadata": {
    "collapsed": true
   },
   "outputs": [],
   "source": [
    "import numpy as np\n",
    "import scipy as sp\n",
    "import scipy.linalg as la\n",
    "import matplotlib.pyplot as plt "
   ]
  },
  {
   "cell_type": "markdown",
   "metadata": {},
   "source": [
    "# 积分"
   ]
  },
  {
   "cell_type": "code",
   "execution_count": 2,
   "metadata": {
    "collapsed": true
   },
   "outputs": [],
   "source": [
    "from scipy.integrate import quad, dblquad, tplquad"
   ]
  },
  {
   "cell_type": "code",
   "execution_count": 4,
   "metadata": {
    "collapsed": false
   },
   "outputs": [
    {
     "name": "stdout",
     "output_type": "stream",
     "text": [
      "integral value = 0.5 , absolute error = 5.55111512313e-15\n"
     ]
    }
   ],
   "source": [
    "#定义一个简单的被积函数,一重积分\n",
    "def f(x): \n",
    "    return x\n",
    "x_lower = 0\n",
    "x_upper = 1\n",
    "val, abserr = quad(f,x_lower,x_upper)\n",
    "print \"integral value =\", val, \", absolute error =\", abserr \n"
   ]
  },
  {
   "cell_type": "code",
   "execution_count": 12,
   "metadata": {
    "collapsed": false,
    "scrolled": false
   },
   "outputs": [
    {
     "name": "stdout",
     "output_type": "stream",
     "text": [
      "numerical  = 1.77245385091 1.42026367809e-08\n",
      "analytical = 1.77245385091\n"
     ]
    }
   ],
   "source": [
    "#对于简单的函数，可以使用lambda函数代替被积函数\n",
    "val,abserr = quad(lambda x:sp.exp(-x**2),-sp.Inf,sp.Inf)\n",
    "print \"numerical  =\", val, abserr\n",
    "analytical = sp.sqrt(sp.pi)\n",
    "print \"analytical =\", analytical"
   ]
  },
  {
   "cell_type": "code",
   "execution_count": 14,
   "metadata": {
    "collapsed": false
   },
   "outputs": [
    {
     "name": "stdout",
     "output_type": "stream",
     "text": [
      "0.785398163397 1.63822994214e-13\n"
     ]
    }
   ],
   "source": [
    "#定义一个被积函数，二重积分\n",
    "def integrand(x, y):\n",
    "    return sp.exp(-x**2-y**2)\n",
    "x_lower = 0  \n",
    "x_upper = 10\n",
    "y_lower = 0\n",
    "y_upper = 10\n",
    "val, abserr = dblquad(integrand, x_lower, x_upper, lambda x : y_lower, lambda x: y_upper)\n",
    "print val, abserr "
   ]
  },
  {
   "cell_type": "markdown",
   "metadata": {},
   "source": [
    "# 常微分方程（ODEs）"
   ]
  },
  {
   "cell_type": "markdown",
   "metadata": {},
   "source": [
    "SciPy的提供了两种不同的方法来解决微分方程：基于函数 **odeint**的API和基于类**ode**面向对象的API。通常odeint更容易上手，但ode类提供一些更精细的控制。\n",
    "在这里，我们将使用odeint函数。 有关类ode的详细信息，我们可以查询help(ode) 。 它和odeint 函数几乎能做同样的事情，但它是面向对象的。\n",
    "要使用odeint函数，我们要先导入scipy.integrate模块"
   ]
  },
  {
   "cell_type": "code",
   "execution_count": 16,
   "metadata": {
    "collapsed": true
   },
   "outputs": [],
   "source": [
    "from scipy.integrate import odeint,ode"
   ]
  },
  {
   "cell_type": "markdown",
   "metadata": {},
   "source": [
    "阻尼震荡的运动方程为：\n",
    "$$\\frac{d^2x}{dt^2}+2 ζ w_0 \\frac{dx}{dt} +{w_0}^2 x = 0 $$\n",
    "这里 x 是振荡的位置， ω0 是振荡频率, ζ 阻尼系数. 为了写出二阶微分方程的标准型，我们引入\n",
    "$$p = \\frac{dx}{dt}$$\n",
    "所以有\n",
    "$$\\frac{dp}{dt} = -2 ζ w_0 -{w_0}^2 x$$\n",
    "$$p = \\frac{dx}{dt}$$"
   ]
  },
  {
   "cell_type": "code",
   "execution_count": 29,
   "metadata": {
    "collapsed": false
   },
   "outputs": [],
   "source": [
    "def dy(y, t, zeta, w0):\n",
    "    \"\"\"\n",
    "    右边的常微分方程\n",
    "    \"\"\"\n",
    "    x, p = y[0], y[1]\n",
    "    \n",
    "    dx = p\n",
    "    dp = -2 * zeta * w0 * p - w0**2 * x\n",
    "\n",
    "    return [dx, dp]\n",
    "\n",
    "# 初始状态: \n",
    "y0 = [1.0, 0.0]\n",
    "# 时间坐标\n",
    "t = sp.linspace(0, 10, 1000)\n",
    "w0 = 2*sp.pi*1.0\n",
    "# 三个不同的阻尼系数\n",
    "y1 = odeint(dy, y0, t, args=(0.0, w0)) # 无阻尼\n",
    "y2 = odeint(dy, y0, t, args=(0.2, w0)) # 欠阻尼\n",
    "y3 = odeint(dy, y0, t, args=(1.0, w0)) # 临街阻尼\n",
    "y4 = odeint(dy, y0, t, args=(5.0, w0)) # 过阻尼\n",
    "# 画图\n",
    "fig, ax = plt.subplots()\n",
    "ax.plot(t, y1[:,0], 'k', label=\"undamped\", linewidth=0.25)\n",
    "ax.plot(t, y2[:,0], 'r', label=\"under damped\")\n",
    "ax.plot(t, y3[:,0], 'b', label=r\"critical damping\")\n",
    "ax.plot(t, y4[:,0], 'g', label=\"over damped\")\n",
    "ax.legend();\n",
    "fig.show()"
   ]
  },
  {
   "cell_type": "markdown",
   "metadata": {},
   "source": [
    "# 傅里叶变换"
   ]
  },
  {
   "cell_type": "code",
   "execution_count": 9,
   "metadata": {
    "collapsed": true
   },
   "outputs": [],
   "source": [
    "from scipy.fftpack import *"
   ]
  },
  {
   "cell_type": "markdown",
   "metadata": {},
   "source": [
    "# 线性代数"
   ]
  },
  {
   "cell_type": "code",
   "execution_count": 15,
   "metadata": {
    "collapsed": false
   },
   "outputs": [
    {
     "name": "stdout",
     "output_type": "stream",
     "text": [
      "[-0.33333333  0.66666667  0.        ]\n",
      "[ -1.11022302e-16   0.00000000e+00   0.00000000e+00]\n"
     ]
    }
   ],
   "source": [
    "#解线性方程组\n",
    "#Ax=b\n",
    "A = np.array([[1,2,3], [4,5,6], [7,8,9]])\n",
    "b = np.array([1,2,3])\n",
    "x = la.solve(A,b)\n",
    "print x\n",
    "#检验\n",
    "print sp.dot(A,x) - b        "
   ]
  },
  {
   "cell_type": "code",
   "execution_count": 21,
   "metadata": {
    "collapsed": false
   },
   "outputs": [
    {
     "name": "stdout",
     "output_type": "stream",
     "text": [
      "[  1.61168440e+01+0.j  -1.11684397e+00+0.j  -1.30367773e-15+0.j]\n",
      "[  1.61168440e+01+0.j  -1.11684397e+00+0.j  -1.30367773e-15+0.j] [[-0.23197069 -0.78583024  0.40824829]\n",
      " [-0.52532209 -0.08675134 -0.81649658]\n",
      " [-0.8186735   0.61232756  0.40824829]]\n",
      "[ -3.55954217e-16+0.j  -1.95262683e-15+0.j   5.32224203e-16+0.j]\n"
     ]
    }
   ],
   "source": [
    "#特征值和特征向量\n",
    "#Av_i = lambda_i*v_i\n",
    "evals = la.eigvals(A) #way1\n",
    "print evals\n",
    "evals, evecs = la.eig(A) #way2\n",
    "print evals,evecs\n",
    "print sp.dot(A,evecs[:,2]) - evals[2]*evecs[:,2] #test"
   ]
  },
  {
   "cell_type": "code",
   "execution_count": 25,
   "metadata": {
    "collapsed": false
   },
   "outputs": [
    {
     "ename": "NameError",
     "evalue": "name 'norm' is not defined",
     "output_type": "error",
     "traceback": [
      "\u001b[0;31m---------------------------------------------------------------------------\u001b[0m",
      "\u001b[0;31mNameError\u001b[0m                                 Traceback (most recent call last)",
      "\u001b[0;32m<ipython-input-25-b647b6461091>\u001b[0m in \u001b[0;36m<module>\u001b[0;34m()\u001b[0m\n\u001b[1;32m      5\u001b[0m \u001b[0mla\u001b[0m\u001b[0;34m.\u001b[0m\u001b[0mdet\u001b[0m\u001b[0;34m(\u001b[0m\u001b[0mA\u001b[0m\u001b[0;34m)\u001b[0m\u001b[0;34m\u001b[0m\u001b[0m\n\u001b[1;32m      6\u001b[0m \u001b[0;31m# 各阶标准阵\u001b[0m\u001b[0;34m\u001b[0m\u001b[0;34m\u001b[0m\u001b[0m\n\u001b[0;32m----> 7\u001b[0;31m \u001b[0mla\u001b[0m\u001b[0;34m.\u001b[0m\u001b[0mnorm\u001b[0m\u001b[0;34m(\u001b[0m\u001b[0mA\u001b[0m\u001b[0;34m,\u001b[0m \u001b[0mord\u001b[0m\u001b[0;34m=\u001b[0m\u001b[0;36m2\u001b[0m\u001b[0;34m)\u001b[0m\u001b[0;34m,\u001b[0m \u001b[0mnorm\u001b[0m\u001b[0;34m(\u001b[0m\u001b[0mA\u001b[0m\u001b[0;34m,\u001b[0m \u001b[0mord\u001b[0m\u001b[0;34m=\u001b[0m\u001b[0mInf\u001b[0m\u001b[0;34m)\u001b[0m\u001b[0;34m\u001b[0m\u001b[0m\n\u001b[0m",
      "\u001b[0;31mNameError\u001b[0m: name 'norm' is not defined"
     ]
    }
   ],
   "source": [
    "#矩阵运算\n",
    "# 矩阵的逆e\n",
    "la.inv(A)\n",
    "# 行列式\n",
    "la.det(A)\n",
    "# 各阶标准阵\n",
    "la.norm(A, ord=2), norm(A, ord=Inf)"
   ]
  },
  {
   "cell_type": "code",
   "execution_count": 27,
   "metadata": {
    "collapsed": false
   },
   "outputs": [
    {
     "data": {
      "text/plain": [
       "array([[1, 0, 0, 0],\n",
       "       [0, 3, 0, 0],\n",
       "       [0, 1, 1, 0],\n",
       "       [1, 0, 0, 1]])"
      ]
     },
     "execution_count": 27,
     "metadata": {},
     "output_type": "execute_result"
    }
   ],
   "source": [
    "#稀疏矩阵\n",
    "#其乘法与稠密矩阵一样\n",
    "from scipy.sparse import *\n",
    "# 稠密矩阵\n",
    "M = sp.array([[1,0,0,0], [0,3,0,0], [0,1,1,0], [1,0,0,1]]); M"
   ]
  },
  {
   "cell_type": "code",
   "execution_count": 28,
   "metadata": {
    "collapsed": false
   },
   "outputs": [
    {
     "data": {
      "text/plain": [
       "<4x4 sparse matrix of type '<type 'numpy.int64'>'\n",
       "\twith 6 stored elements in Compressed Sparse Row format>"
      ]
     },
     "execution_count": 28,
     "metadata": {},
     "output_type": "execute_result"
    }
   ],
   "source": [
    "# 稠密矩阵转为稀疏矩阵\n",
    "A = csr_matrix(M); A"
   ]
  },
  {
   "cell_type": "code",
   "execution_count": 29,
   "metadata": {
    "collapsed": false
   },
   "outputs": [
    {
     "data": {
      "text/plain": [
       "matrix([[1, 0, 0, 0],\n",
       "        [0, 3, 0, 0],\n",
       "        [0, 1, 1, 0],\n",
       "        [1, 0, 0, 1]])"
      ]
     },
     "execution_count": 29,
     "metadata": {},
     "output_type": "execute_result"
    }
   ],
   "source": [
    "# 稀疏矩阵转为稠密矩阵\n",
    "A.todense()"
   ]
  },
  {
   "cell_type": "code",
   "execution_count": 30,
   "metadata": {
    "collapsed": false
   },
   "outputs": [
    {
     "data": {
      "text/plain": [
       "<4x4 sparse matrix of type '<type 'numpy.float64'>'\n",
       "\twith 6 stored elements in LInked List format>"
      ]
     },
     "execution_count": 30,
     "metadata": {},
     "output_type": "execute_result"
    }
   ],
   "source": [
    "#更有效创建系数矩阵的方法：创建一个空矩阵并利用索引填充\n",
    "A = lil_matrix((4,4)) # 空 4x4 稀疏矩阵\n",
    "A[0,0] = 1\n",
    "A[1,1] = 3\n",
    "A[2,2] = A[2,1] = 1\n",
    "A[3,3] = A[3,0] = 1\n",
    "A"
   ]
  },
  {
   "cell_type": "code",
   "execution_count": 31,
   "metadata": {
    "collapsed": false
   },
   "outputs": [
    {
     "data": {
      "text/plain": [
       "matrix([[ 1.,  0.,  0.,  0.],\n",
       "        [ 0.,  3.,  0.,  0.],\n",
       "        [ 0.,  1.,  1.,  0.],\n",
       "        [ 1.,  0.,  0.,  1.]])"
      ]
     },
     "execution_count": 31,
     "metadata": {},
     "output_type": "execute_result"
    }
   ],
   "source": [
    "A.todense()"
   ]
  },
  {
   "cell_type": "markdown",
   "metadata": {},
   "source": [
    "# 优化"
   ]
  },
  {
   "cell_type": "code",
   "execution_count": 32,
   "metadata": {
    "collapsed": true
   },
   "outputs": [],
   "source": [
    "from scipy import optimize"
   ]
  },
  {
   "cell_type": "code",
   "execution_count": 33,
   "metadata": {
    "collapsed": true
   },
   "outputs": [],
   "source": [
    "def f(x):\n",
    "    return  4*x**3 + (x-2)**2 + x**4"
   ]
  },
  {
   "cell_type": "code",
   "execution_count": 42,
   "metadata": {
    "collapsed": false
   },
   "outputs": [
    {
     "data": {
      "image/png": "[encoded data removed]",
      "text/plain": [
       "<matplotlib.figure.Figure at 0x10b3282d0>"
      ]
     },
     "metadata": {},
     "output_type": "display_data"
    }
   ],
   "source": [
    "%matplotlib inline\n",
    "fig, ax  = plt.subplots()\n",
    "x = sp.linspace(-5, 3, 100)\n",
    "ax.plot(x, f(x));"
   ]
  },
  {
   "cell_type": "code",
   "execution_count": 43,
   "metadata": {
    "collapsed": false
   },
   "outputs": [
    {
     "name": "stdout",
     "output_type": "stream",
     "text": [
      "Optimization terminated successfully.\n",
      "         Current function value: -3.506641\n",
      "         Iterations: 6\n",
      "         Function evaluations: 30\n",
      "         Gradient evaluations: 10\n"
     ]
    },
    {
     "data": {
      "text/plain": [
       "array([-2.67298167])"
      ]
     },
     "execution_count": 43,
     "metadata": {},
     "output_type": "execute_result"
    }
   ],
   "source": [
    "x_min = optimize.fmin_bfgs(f, -2)\n",
    "x_min "
   ]
  },
  {
   "cell_type": "code",
   "execution_count": 44,
   "metadata": {
    "collapsed": false
   },
   "outputs": [
    {
     "name": "stdout",
     "output_type": "stream",
     "text": [
      "Optimization terminated successfully.\n",
      "         Current function value: 2.804988\n",
      "         Iterations: 3\n",
      "         Function evaluations: 15\n",
      "         Gradient evaluations: 5\n"
     ]
    },
    {
     "data": {
      "text/plain": [
       "array([ 0.46961745])"
      ]
     },
     "execution_count": 44,
     "metadata": {},
     "output_type": "execute_result"
    }
   ],
   "source": [
    "optimize.fmin_bfgs(f, 0.5)"
   ]
  },
  {
   "cell_type": "code",
   "execution_count": 45,
   "metadata": {
    "collapsed": false
   },
   "outputs": [
    {
     "data": {
      "text/plain": [
       "0.46961743402759754"
      ]
     },
     "execution_count": 45,
     "metadata": {},
     "output_type": "execute_result"
    }
   ],
   "source": [
    "optimize.brent(f)"
   ]
  },
  {
   "cell_type": "code",
   "execution_count": 46,
   "metadata": {
    "collapsed": false
   },
   "outputs": [
    {
     "data": {
      "text/plain": [
       "-2.6729822917513886"
      ]
     },
     "execution_count": 46,
     "metadata": {},
     "output_type": "execute_result"
    }
   ],
   "source": [
    "optimize.fminbound(f, -4, 2)"
   ]
  },
  {
   "cell_type": "markdown",
   "metadata": {},
   "source": [
    "# 寻找函数解"
   ]
  },
  {
   "cell_type": "code",
   "execution_count": 62,
   "metadata": {
    "collapsed": true
   },
   "outputs": [],
   "source": [
    "omega_c = 3.0\n",
    "def f(omega):\n",
    "    # 一个超越方程： 共振频率\n",
    "    return sp.tan(2*np.pi*omega) - omega_c/omega"
   ]
  },
  {
   "cell_type": "code",
   "execution_count": 65,
   "metadata": {
    "collapsed": false
   },
   "outputs": [
    {
     "name": "stderr",
     "output_type": "stream",
     "text": [
      "/anaconda/lib/python2.7/site-packages/IPython/kernel/__main__.py:4: RuntimeWarning: divide by zero encountered in divide\n"
     ]
    },
    {
     "data": {
      "image/png": "[encoded data removed]",
      "text/plain": [
       "<matplotlib.figure.Figure at 0x10bfa4710>"
      ]
     },
     "metadata": {},
     "output_type": "display_data"
    }
   ],
   "source": [
    "fig, ax  = plt.subplots(figsize=(10,4))\n",
    "x = sp.linspace(0, 3, 1000)\n",
    "y = f(x)\n",
    "#mask = sp.where(abs(y) > 50)\n",
    "mask = (abs(y) > 50)\n",
    "x[mask] = y[mask] = sp.NaN # 当函数符号变化时放弃纵线\n",
    "ax.plot(x, y)\n",
    "ax.plot([0, 3], [0, 0], 'k')\n",
    "ax.set_ylim(-5,5);"
   ]
  },
  {
   "cell_type": "code",
   "execution_count": 50,
   "metadata": {
    "collapsed": false
   },
   "outputs": [
    {
     "data": {
      "text/plain": [
       "(array([675, 676, 677, 678, 679, 680, 681, 682, 683, 684, 685, 686, 687,\n",
       "        688, 689, 690, 691, 692, 693, 694, 695, 696, 697, 698, 699, 700,\n",
       "        701, 702, 703, 704, 705, 706, 707, 708, 709, 710, 711, 712, 713,\n",
       "        714, 715, 716, 717, 718, 719, 720, 721, 722, 723, 724, 725, 726,\n",
       "        727, 728, 729, 730, 731, 732, 733, 734, 735, 736, 737, 738, 739,\n",
       "        740, 741, 742, 743, 744, 745, 746, 747, 748, 749, 750, 751, 752,\n",
       "        753, 754, 755, 756, 757, 758, 759, 760, 761, 762, 763, 764, 765,\n",
       "        766, 767, 768, 769, 770, 771, 772, 773, 774, 775, 776, 777, 778,\n",
       "        779, 780, 781, 782, 783, 784, 785, 786, 787, 788, 789, 790, 791,\n",
       "        792, 793, 794, 795, 796, 797, 798, 799, 800, 801, 802, 803, 804,\n",
       "        805, 806, 807, 808, 809, 810, 811, 812, 813, 814, 815, 816, 817,\n",
       "        818, 819, 820, 821, 822, 823, 824, 825, 826, 827, 828, 829, 830,\n",
       "        831, 832, 833, 834, 835, 836, 837, 838, 839, 840, 841, 842, 843,\n",
       "        844, 845, 846, 847, 848, 849, 850, 851, 852, 853, 854, 855, 856,\n",
       "        857, 858, 859, 860, 861, 862, 863, 864, 865, 866, 867, 868, 869,\n",
       "        870, 871, 872, 873, 874, 875, 876, 877, 878, 879, 880, 881, 882,\n",
       "        883, 884, 885, 886, 887, 888, 889, 890, 891, 892, 893, 894, 895,\n",
       "        896, 897, 898, 899, 900, 901, 902, 903, 904, 905, 906, 907, 908,\n",
       "        909, 910, 911, 912, 913, 914, 915, 916, 917, 918, 919, 920, 921,\n",
       "        922, 923, 924, 925, 926, 927, 928, 929, 930, 931, 932, 933, 934,\n",
       "        935, 936, 937, 938, 939, 940, 941, 942, 943, 944, 945, 946, 947,\n",
       "        948, 949, 950, 951, 952, 953, 954, 955, 956, 957, 958, 959, 960,\n",
       "        961, 962, 963, 964, 965, 966, 967, 968, 969, 970, 971, 972, 973,\n",
       "        974, 975, 976, 977, 978, 979, 980, 981, 982, 983, 984, 985, 986,\n",
       "        987, 988, 989, 990, 991, 992, 993, 994, 995, 996, 997, 998, 999]),)"
      ]
     },
     "execution_count": 50,
     "metadata": {},
     "output_type": "execute_result"
    }
   ],
   "source": [
    "optimize.fsolve(f, 0.1)"
   ]
  },
  {
   "cell_type": "markdown",
   "metadata": {},
   "source": [
    "# 插值"
   ]
  },
  {
   "cell_type": "code",
   "execution_count": 66,
   "metadata": {
    "collapsed": true
   },
   "outputs": [],
   "source": [
    "from scipy.interpolate import *"
   ]
  },
  {
   "cell_type": "code",
   "execution_count": 70,
   "metadata": {
    "collapsed": true
   },
   "outputs": [],
   "source": [
    "def f(x):\n",
    "    return sp.sin(x)"
   ]
  },
  {
   "cell_type": "code",
   "execution_count": 71,
   "metadata": {
    "collapsed": false
   },
   "outputs": [],
   "source": [
    "n = sp.arange(0, 10)  \n",
    "x = sp.linspace(0, 9, 100)\n",
    "\n",
    "y_meas = f(n) + 0.1 * sp.randn(len(n)) # 模拟噪声\n",
    "y_real = f(x)\n",
    "\n",
    "linear_interpolation = interp1d(n, y_meas)\n",
    "y_interp1 = linear_interpolation(x)\n",
    "\n",
    "cubic_interpolation = interp1d(n, y_meas, kind='cubic')\n",
    "y_interp2 = cubic_interpolation(x)"
   ]
  },
  {
   "cell_type": "code",
   "execution_count": 73,
   "metadata": {
    "collapsed": false
   },
   "outputs": [
    {
     "data": {
      "text/plain": [
       "<matplotlib.legend.Legend at 0x10c6fcd90>"
      ]
     },
     "execution_count": 73,
     "metadata": {},
     "output_type": "execute_result"
    },
    {
     "data": {
      "image/png": "[encoded data removed]",
      "text/plain": [
       "<matplotlib.figure.Figure at 0x10c66ffd0>"
      ]
     },
     "metadata": {},
     "output_type": "display_data"
    }
   ],
   "source": [
    "fig, ax = plt.subplots(figsize=(10,4))\n",
    "ax.plot(n, y_meas, 'bs', label='noisy data')\n",
    "ax.plot(x, y_real, 'k', lw=2, label='true function')\n",
    "ax.plot(x, y_interp1, 'r', label='linear interp')\n",
    "ax.plot(x, y_interp2, 'g', label='cubic interp')\n",
    "ax.legend(loc=3)"
   ]
  },
  {
   "cell_type": "markdown",
   "metadata": {},
   "source": [
    "# 统计"
   ]
  },
  {
   "cell_type": "code",
   "execution_count": 74,
   "metadata": {
    "collapsed": true
   },
   "outputs": [],
   "source": [
    "from scipy import stats"
   ]
  },
  {
   "cell_type": "code",
   "execution_count": 78,
   "metadata": {
    "collapsed": false
   },
   "outputs": [
    {
     "data": {
      "text/plain": [
       "(3.5, 1.8708286933869707, 3.5)"
      ]
     },
     "execution_count": 78,
     "metadata": {},
     "output_type": "execute_result"
    },
    {
     "data": {
      "image/png": "[encoded data removed]",
      "text/plain": [
       "<matplotlib.figure.Figure at 0x10ce6c1d0>"
      ]
     },
     "metadata": {},
     "output_type": "display_data"
    }
   ],
   "source": [
    "# 创建泊松分布（离散）的随机变量\n",
    "\n",
    "X = stats.poisson(3.5) # n=3.5 光子的相干态分布\n",
    "n = sp.arange(0,15)\n",
    "\n",
    "fig, axes = plt.subplots(3,1, sharex=True)\n",
    "\n",
    "# 概率质量函数图 (PMF)\n",
    "axes[0].step(n, X.pmf(n))\n",
    "\n",
    "# 累积分布函数图 (CDF)\n",
    "axes[1].step(n, X.cdf(n))\n",
    "\n",
    "# 1000个随机变量X的柱状图\n",
    "axes[2].hist(X.rvs(size=1000));\n",
    "X.mean(), X.std(), X.var() # 泊松分布"
   ]
  },
  {
   "cell_type": "code",
   "execution_count": 79,
   "metadata": {
    "collapsed": false
   },
   "outputs": [
    {
     "data": {
      "text/plain": [
       "(0.0, 1.0, 1.0)"
      ]
     },
     "execution_count": 79,
     "metadata": {},
     "output_type": "execute_result"
    },
    {
     "data": {
      "image/png": "[encoded data removed]",
      "text/plain": [
       "<matplotlib.figure.Figure at 0x10e162a90>"
      ]
     },
     "metadata": {},
     "output_type": "display_data"
    }
   ],
   "source": [
    "# 创建一个正态分布的随机变量（连续）\n",
    "Y = stats.norm()\n",
    "\n",
    "x = sp.linspace(-5,5,100)\n",
    "\n",
    "fig, axes = plt.subplots(3,1, sharex=True)\n",
    "\n",
    "# 概率分布函数图 (PDF)\n",
    "axes[0].plot(x, Y.pdf(x))\n",
    "\n",
    "# 累积分布函数图 (CDF)\n",
    "axes[1].plot(x, Y.cdf(x));\n",
    "\n",
    "# 1000个随机变量Y的柱状图\n",
    "axes[2].hist(Y.rvs(size=1000), bins=50);\n",
    "Y.mean(), Y.std(), Y.var() # 正态分布"
   ]
  },
  {
   "cell_type": "code",
   "execution_count": 91,
   "metadata": {
    "collapsed": false
   },
   "outputs": [
    {
     "name": "stdout",
     "output_type": "stream",
     "text": [
      "t-statistic = 0.0720913371839\n",
      "p-value = 0.942536435659\n",
      "上面采用了t-test检验了两组数据是否满足相同的分布，p值很大，表明两组数据具有相同的均值\n"
     ]
    }
   ],
   "source": [
    "#统计检定\n",
    "t_statistic, p_value = stats.ttest_ind(X.rvs(size=1000), X.rvs(size=1000))\n",
    "print \"t-statistic =\", t_statistic\n",
    "print \"p-value =\", p_value\n",
    "print \"上面采用了t-test检验了两组数据是否满足相同的分布，p值很大，表明两组数据具有\\\n",
    "相同的均值\""
   ]
  },
  {
   "cell_type": "code",
   "execution_count": 94,
   "metadata": {
    "collapsed": false
   },
   "outputs": [
    {
     "name": "stdout",
     "output_type": "stream",
     "text": [
      "(-2.2258051725333354, 0.026249736229456661)\n",
      "低p值表明我们可以拒绝假设：Y的均值是0.1\n",
      "Y.mean 0.0\n"
     ]
    }
   ],
   "source": [
    "print stats.ttest_1samp(Y.rvs(size=1000), 0.1)\n",
    "print \"低p值表明我们可以拒绝假设：Y的均值是0.1\"\n",
    "print 'Y.mean',Y.mean()"
   ]
  }
 ],
 "metadata": {
  "kernelspec": {
   "display_name": "Python 2",
   "language": "python",
   "name": "python2"
  },
  "language_info": {
   "codemirror_mode": {
    "name": "ipython",
    "version": 2
   },
   "file_extension": ".py",
   "mimetype": "text/x-python",
   "name": "python",
   "nbconvert_exporter": "python",
   "pygments_lexer": "ipython2",
   "version": "2.7.9"
  }
 },
 "nbformat": 4,
 "nbformat_minor": 0
}
