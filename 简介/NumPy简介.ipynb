{
 "cells": [
  {
   "cell_type": "code",
   "execution_count": 2,
   "metadata": {
    "collapsed": true
   },
   "outputs": [],
   "source": [
    "import numpy as np"
   ]
  },
  {
   "cell_type": "markdown",
   "metadata": {},
   "source": [
    "#创建numpy.ndarray数组 "
   ]
  },
  {
   "cell_type": "code",
   "execution_count": 139,
   "metadata": {
    "collapsed": true
   },
   "outputs": [],
   "source": [
    "a = np.array([[1,2],[3,4],[5,6]])\n",
    "b = np.array([[1,2],[3,4]],dtype = complex)"
   ]
  },
  {
   "cell_type": "markdown",
   "metadata": {},
   "source": [
    "数组的一般设置有："
   ]
  },
  {
   "cell_type": "code",
   "execution_count": 10,
   "metadata": {
    "collapsed": false
   },
   "outputs": [
    {
     "name": "stdout",
     "output_type": "stream",
     "text": [
      "<type 'numpy.ndarray'>\n",
      "int64\n",
      "(2, 2)\n",
      "(2, 2)\n",
      "4\n",
      "4\n"
     ]
    }
   ],
   "source": [
    "print type(a)\n",
    "print a.dtype\n",
    "print a.shape\n",
    "print np.shape(a)\n",
    "print a.size\n",
    "print np.size(a)"
   ]
  },
  {
   "cell_type": "markdown",
   "metadata": {},
   "source": [
    "数组一般处理函数有："
   ]
  },
  {
   "cell_type": "code",
   "execution_count": 106,
   "metadata": {
    "collapsed": false,
    "scrolled": true
   },
   "outputs": [
    {
     "name": "stdout",
     "output_type": "stream",
     "text": [
      "[0 2 4]\n",
      "6\n",
      "0\n",
      "[0 2 6]\n",
      "[0 0 0]\n",
      "1.63299316186\n",
      "2.66666666667\n",
      "4\n",
      "0\n"
     ]
    }
   ],
   "source": [
    "x = np.arange(0,6,2)\n",
    "print x\n",
    "print np.sum(x)\n",
    "print np.prod(x)\n",
    "print np.cumsum(x)\n",
    "print np.cumprod(x)\n",
    "print np.std(x)\n",
    "print np.var(x)\n",
    "print np.max(x)\n",
    "print np.min(x)"
   ]
  },
  {
   "cell_type": "markdown",
   "metadata": {},
   "source": [
    "数组的迭代"
   ]
  },
  {
   "cell_type": "code",
   "execution_count": 144,
   "metadata": {
    "collapsed": false,
    "scrolled": false
   },
   "outputs": [
    {
     "name": "stdout",
     "output_type": "stream",
     "text": [
      "row: [1 2]\n",
      "row_element: 1\n",
      "row_element: 2\n",
      "row: [3 4]\n",
      "row_element: 3\n",
      "row_element: 4\n",
      "row: [5 6]\n",
      "row_element: 5\n",
      "row_element: 6\n",
      "row_idx: 0 row: [1 2]\n",
      "col_idx: 0 row_element: 1\n",
      "col_idx: 1 row_element: 2\n",
      "row_idx: 1 row: [3 4]\n",
      "col_idx: 0 row_element: 3\n",
      "col_idx: 1 row_element: 4\n",
      "row_idx: 2 row: [5 6]\n",
      "col_idx: 0 row_element: 5\n",
      "col_idx: 1 row_element: 6\n"
     ]
    }
   ],
   "source": [
    "#迭代内容无索引\n",
    "x = np.array([[1,2],[3,4],[5,6]])\n",
    "for row in x:\n",
    "    print \"row:\",row\n",
    "    for row_element in row:\n",
    "        print \"row_element:\",row_element\n",
    "#迭代内容和索引\n",
    "x = np.array([[1,2],[3,4],[5,6]])\n",
    "for row_idx,row in enumerate(x):\n",
    "    print \"row_idx:\",row_idx ,\"row:\",row\n",
    "    for col_idx, row_element in enumerate(row):\n",
    "        print \"col_idx:\",col_idx, \"row_element:\",row_element"
   ]
  },
  {
   "cell_type": "markdown",
   "metadata": {},
   "source": [
    "数组的堆叠与重复"
   ]
  },
  {
   "cell_type": "code",
   "execution_count": 130,
   "metadata": {
    "collapsed": false
   },
   "outputs": [
    {
     "name": "stdout",
     "output_type": "stream",
     "text": [
      "[[1 2]\n",
      " [3 4]]\n",
      "[1 1 1 2 2 2 3 3 3 4 4 4]\n",
      "[[1 2 1 2]\n",
      " [3 4 3 4]\n",
      " [1 2 1 2]\n",
      " [3 4 3 4]\n",
      " [1 2 1 2]\n",
      " [3 4 3 4]]\n",
      "[[1 2]\n",
      " [3 4]\n",
      " [5 6]]\n",
      "[[1 2]\n",
      " [3 4]\n",
      " [5 6]]\n",
      "[[1 2 5]\n",
      " [3 4 6]]\n",
      "[[1 2 5]\n",
      " [3 4 6]]\n"
     ]
    }
   ],
   "source": [
    "a = np.array([[1,2],[3,4]])\n",
    "print a\n",
    "print np.repeat(a,3) #单纯地元素重复\n",
    "print np.tile(a,(3,2)) #矩阵拼接\n",
    "b = np.array([[5,6]])\n",
    "print np.concatenate((a,b),axis=0)\n",
    "print np.vstack((a,b))\n",
    "print np.concatenate((a,b.T),axis=1)\n",
    "print np.hstack((a,b.T))"
   ]
  },
  {
   "cell_type": "markdown",
   "metadata": {},
   "source": [
    "对于高维数据，可以根据轴进行计算"
   ]
  },
  {
   "cell_type": "code",
   "execution_count": 109,
   "metadata": {
    "collapsed": false
   },
   "outputs": [
    {
     "name": "stdout",
     "output_type": "stream",
     "text": [
      "[[0 1]\n",
      " [2 3]\n",
      " [4 5]]\n",
      "5\n",
      "[4 5]\n",
      "[1 3 5]\n"
     ]
    }
   ],
   "source": [
    "x = np.arange(0,6)\n",
    "x = x.reshape(3,2)\n",
    "print x\n",
    "print x.max() #全局最大\n",
    "print x.max(axis=0) #每列最大\n",
    "print x.max(axis=1) #每行最大"
   ]
  },
  {
   "cell_type": "markdown",
   "metadata": {},
   "source": [
    "关于浅复制与深复制"
   ]
  },
  {
   "cell_type": "code",
   "execution_count": 131,
   "metadata": {
    "collapsed": false
   },
   "outputs": [
    {
     "name": "stdout",
     "output_type": "stream",
     "text": [
      "PART1:直接引用\n",
      "[[10  1]\n",
      " [ 2  3]\n",
      " [ 4  5]]\n",
      "[[10  1]\n",
      " [ 2  3]\n",
      " [ 4  5]]\n",
      "PART2:reshape引用\n",
      "[[10  1  2  3  4  5]]\n",
      "[[10  1]\n",
      " [ 2  3]\n",
      " [ 4  5]]\n",
      "PART3:flatten创建数据副本\n",
      "[10  1  2  3  4  5]\n",
      "[[0 1]\n",
      " [2 3]\n",
      " [4 5]]\n",
      "PART4:为了实现高性能计算，Python一般不会复制潜在对象，使用pass by reference\n",
      "[[10  1]\n",
      " [ 2  3]\n",
      " [ 4  5]]\n",
      "[[0 1]\n",
      " [2 3]\n",
      " [4 5]]\n"
     ]
    }
   ],
   "source": [
    "print \"PART1:直接引用\"\n",
    "x = np.arange(0,6)\n",
    "x = x.reshape(3,2)\n",
    "x2 = x\n",
    "x2[0,0] = 10\n",
    "print x2\n",
    "print x\n",
    "print \"PART2:reshape引用\"\n",
    "x = np.arange(0,6)\n",
    "x = x.reshape(3,2)\n",
    "x2 = x.reshape(1,6)\n",
    "x2[0,0] = 10\n",
    "print x2\n",
    "print x\n",
    "print \"PART3:flatten创建数据副本\"\n",
    "x = np.arange(0,6)\n",
    "x = x.reshape(3,2)\n",
    "x2 = x.flatten()\n",
    "x2[0] = 10\n",
    "print x2\n",
    "print x\n",
    "print \"PART4:为了实现高性能计算，Python一般不会复制潜在对象，使用pass by reference\"\n",
    "x = np.arange(0,6)\n",
    "x = x.reshape(3,2)\n",
    "x2 = np.copy(x)\n",
    "x2[0,0] = 10\n",
    "print x2\n",
    "print x"
   ]
  },
  {
   "cell_type": "markdown",
   "metadata": {},
   "source": [
    "数组赋值如下："
   ]
  },
  {
   "cell_type": "code",
   "execution_count": 18,
   "metadata": {
    "collapsed": false,
    "scrolled": true
   },
   "outputs": [
    {
     "name": "stdout",
     "output_type": "stream",
     "text": [
      "[[1 2]\n",
      " [3 4]]\n",
      "[[0 2]\n",
      " [3 4]]\n",
      "[[ 1.+0.j  2.+0.j]\n",
      " [ 3.+0.j  4.+0.j]]\n"
     ]
    }
   ],
   "source": [
    "print a\n",
    "a[0,0] = 0\n",
    "print a\n",
    "print b"
   ]
  },
  {
   "cell_type": "markdown",
   "metadata": {},
   "source": [
    "数组的条件使用如下："
   ]
  },
  {
   "cell_type": "code",
   "execution_count": 157,
   "metadata": {
    "collapsed": false,
    "scrolled": true
   },
   "outputs": [
    {
     "name": "stdout",
     "output_type": "stream",
     "text": [
      "[[ 0  1  2  3]\n",
      " [ 4  5  6  7]\n",
      " [ 8  9 10 11]]\n",
      "at least one element in x is larger than 5\n",
      "all elements in x are not larger than 5\n"
     ]
    }
   ],
   "source": [
    "x = np.arange(0,12).reshape(3,4)\n",
    "print x\n",
    "if (x>5).any():\n",
    "    print(\"at least one element in x is larger than 5\")\n",
    "else:\n",
    "    print(\"no element in x is larger than 5\")\n",
    "if (x > 5).all():\n",
    "    print(\"all elements in x are larger than 5\")\n",
    "else:\n",
    "    print(\"all elements in x are not larger than 5\")"
   ]
  },
  {
   "cell_type": "markdown",
   "metadata": {},
   "source": [
    "数据的类型转换如下："
   ]
  },
  {
   "cell_type": "code",
   "execution_count": 160,
   "metadata": {
    "collapsed": false
   },
   "outputs": [
    {
     "name": "stdout",
     "output_type": "stream",
     "text": [
      "[[-1  0]\n",
      " [-3  3]\n",
      " [ 4  5]]\n",
      "int64\n",
      "[[-1.  0.]\n",
      " [-3.  3.]\n",
      " [ 4.  5.]]\n",
      "float64\n",
      "[[ True False]\n",
      " [ True  True]\n",
      " [ True  True]]\n",
      "bool\n"
     ]
    }
   ],
   "source": [
    "x = np.array([[-1,0],[-3,3],[4,5]])\n",
    "print x\n",
    "print x.dtype\n",
    "x = x.astype(float)\n",
    "print x\n",
    "print x.dtype\n",
    "x = x.astype(bool)\n",
    "print x\n",
    "print x.dtype\n"
   ]
  },
  {
   "cell_type": "markdown",
   "metadata": {},
   "source": [
    "无法将错误的类型复制给ndarray数组："
   ]
  },
  {
   "cell_type": "code",
   "execution_count": 11,
   "metadata": {
    "collapsed": false,
    "scrolled": true
   },
   "outputs": [
    {
     "ename": "ValueError",
     "evalue": "invalid literal for long() with base 10: 'hello'",
     "output_type": "error",
     "traceback": [
      "\u001b[0;31m---------------------------------------------------------------------------\u001b[0m",
      "\u001b[0;31mValueError\u001b[0m                                Traceback (most recent call last)",
      "\u001b[0;32m<ipython-input-11-595dc859c2a6>\u001b[0m in \u001b[0;36m<module>\u001b[0;34m()\u001b[0m\n\u001b[0;32m----> 1\u001b[0;31m \u001b[0ma\u001b[0m\u001b[0;34m[\u001b[0m\u001b[0;36m0\u001b[0m\u001b[0;34m,\u001b[0m\u001b[0;36m0\u001b[0m\u001b[0;34m]\u001b[0m\u001b[0;34m=\u001b[0m\u001b[0;34m\"hello\"\u001b[0m\u001b[0;34m\u001b[0m\u001b[0m\n\u001b[0m",
      "\u001b[0;31mValueError\u001b[0m: invalid literal for long() with base 10: 'hello'"
     ]
    }
   ],
   "source": [
    "a[0,0]=\"hello\""
   ]
  },
  {
   "cell_type": "markdown",
   "metadata": {},
   "source": [
    "# 数组生成\n"
   ]
  },
  {
   "cell_type": "markdown",
   "metadata": {},
   "source": [
    "序列数据"
   ]
  },
  {
   "cell_type": "code",
   "execution_count": 21,
   "metadata": {
    "collapsed": false
   },
   "outputs": [
    {
     "data": {
      "text/plain": [
       "array([20, 19, 18, 17, 16, 15, 14, 13, 12, 11])"
      ]
     },
     "execution_count": 21,
     "metadata": {},
     "output_type": "execute_result"
    }
   ],
   "source": [
    "x = np.arange(20,10,-1)\n",
    "x"
   ]
  },
  {
   "cell_type": "code",
   "execution_count": 22,
   "metadata": {
    "collapsed": false
   },
   "outputs": [
    {
     "data": {
      "text/plain": [
       "array([  0. ,   2.5,   5. ,   7.5,  10. ])"
      ]
     },
     "execution_count": 22,
     "metadata": {},
     "output_type": "execute_result"
    }
   ],
   "source": [
    "x = np.linspace(0,10,5)\n",
    "x"
   ]
  },
  {
   "cell_type": "markdown",
   "metadata": {},
   "source": [
    " 网格数据"
   ]
  },
  {
   "cell_type": "code",
   "execution_count": 25,
   "metadata": {
    "collapsed": false,
    "scrolled": true
   },
   "outputs": [
    {
     "name": "stdout",
     "output_type": "stream",
     "text": [
      "[[0 0 0 0 0]\n",
      " [1 1 1 1 1]\n",
      " [2 2 2 2 2]\n",
      " [3 3 3 3 3]\n",
      " [4 4 4 4 4]\n",
      " [5 5 5 5 5]]\n",
      "[[0 1 2 3 4]\n",
      " [0 1 2 3 4]\n",
      " [0 1 2 3 4]\n",
      " [0 1 2 3 4]\n",
      " [0 1 2 3 4]\n",
      " [0 1 2 3 4]]\n"
     ]
    }
   ],
   "source": [
    "x,y = np.mgrid[0:6,0:5]\n",
    "print x\n",
    "print y"
   ]
  },
  {
   "cell_type": "markdown",
   "metadata": {},
   "source": [
    " 随机数据"
   ]
  },
  {
   "cell_type": "code",
   "execution_count": 26,
   "metadata": {
    "collapsed": true
   },
   "outputs": [],
   "source": [
    "from numpy import random"
   ]
  },
  {
   "cell_type": "code",
   "execution_count": 27,
   "metadata": {
    "collapsed": false
   },
   "outputs": [
    {
     "data": {
      "text/plain": [
       "array([[ 0.09919692,  0.44995643,  0.90578017,  0.18181025,  0.16544611],\n",
       "       [ 0.52577939,  0.2661619 ,  0.14544526,  0.17467566,  0.07716751],\n",
       "       [ 0.99270601,  0.63966898,  0.39609171,  0.34022083,  0.94142665],\n",
       "       [ 0.39477782,  0.74222628,  0.1660867 ,  0.22881632,  0.60700693],\n",
       "       [ 0.7688381 ,  0.07973296,  0.24212191,  0.80267429,  0.12550807]])"
      ]
     },
     "execution_count": 27,
     "metadata": {},
     "output_type": "execute_result"
    }
   ],
   "source": [
    "#均匀随机数[0,1]\n",
    "random.rand(5,5)"
   ]
  },
  {
   "cell_type": "code",
   "execution_count": 28,
   "metadata": {
    "collapsed": false
   },
   "outputs": [
    {
     "data": {
      "text/plain": [
       "array([[-0.06519298, -1.0148678 ,  0.7624279 ],\n",
       "       [ 0.83847235,  0.10532663, -0.96809228],\n",
       "       [-1.41104965,  0.60462467,  0.05342115]])"
      ]
     },
     "execution_count": 28,
     "metadata": {},
     "output_type": "execute_result"
    }
   ],
   "source": [
    "#标准正态分布随机数\n",
    "random.randn(3,3)"
   ]
  },
  {
   "cell_type": "code",
   "execution_count": 30,
   "metadata": {
    "collapsed": false
   },
   "outputs": [
    {
     "data": {
      "text/plain": [
       "array([[1, 0, 0],\n",
       "       [0, 2, 0],\n",
       "       [0, 0, 3]])"
      ]
     },
     "execution_count": 30,
     "metadata": {},
     "output_type": "execute_result"
    }
   ],
   "source": [
    "#对角矩阵\n",
    "np.diag([1,2,3])"
   ]
  },
  {
   "cell_type": "code",
   "execution_count": 31,
   "metadata": {
    "collapsed": false
   },
   "outputs": [
    {
     "data": {
      "text/plain": [
       "array([[0, 1, 0, 0],\n",
       "       [0, 0, 2, 0],\n",
       "       [0, 0, 0, 3],\n",
       "       [0, 0, 0, 0]])"
      ]
     },
     "execution_count": 31,
     "metadata": {},
     "output_type": "execute_result"
    }
   ],
   "source": [
    "#对角线和来自主对角线的偏移\n",
    "np.diag([1,2,3],k=1)"
   ]
  },
  {
   "cell_type": "code",
   "execution_count": 35,
   "metadata": {
    "collapsed": false
   },
   "outputs": [
    {
     "data": {
      "text/plain": [
       "array([[ 0.,  0.],\n",
       "       [ 0.,  0.],\n",
       "       [ 0.,  0.]])"
      ]
     },
     "execution_count": 35,
     "metadata": {},
     "output_type": "execute_result"
    }
   ],
   "source": [
    "#零矩阵\n",
    "np.zeros([3,2])"
   ]
  },
  {
   "cell_type": "code",
   "execution_count": 37,
   "metadata": {
    "collapsed": false
   },
   "outputs": [
    {
     "data": {
      "text/plain": [
       "array([[ 1.,  1.],\n",
       "       [ 1.,  1.],\n",
       "       [ 1.,  1.]])"
      ]
     },
     "execution_count": 37,
     "metadata": {},
     "output_type": "execute_result"
    }
   ],
   "source": [
    "#单位矩阵\n",
    "np.ones([3,2])"
   ]
  },
  {
   "cell_type": "markdown",
   "metadata": {},
   "source": [
    "# 数组属性"
   ]
  },
  {
   "cell_type": "markdown",
   "metadata": {},
   "source": [
    "自带方法属性"
   ]
  },
  {
   "cell_type": "code",
   "execution_count": 52,
   "metadata": {
    "collapsed": false,
    "scrolled": true
   },
   "outputs": [
    {
     "name": "stdout",
     "output_type": "stream",
     "text": [
      "[[1 2]\n",
      " [3 4]\n",
      " [5 6]]\n",
      "int64\n",
      "8\n",
      "48\n",
      "(3, 2)\n",
      "2\n"
     ]
    }
   ],
   "source": [
    "print a \n",
    "print a.dtype\n",
    "print a.itemsize #每个元素字节\n",
    "print a.nbytes #字节数\n",
    "print a.shape\n",
    "print a.ndim #维度\n"
   ]
  },
  {
   "cell_type": "markdown",
   "metadata": {},
   "source": [
    "索引"
   ]
  },
  {
   "cell_type": "code",
   "execution_count": 55,
   "metadata": {
    "collapsed": false,
    "scrolled": false
   },
   "outputs": [
    {
     "data": {
      "text/plain": [
       "array([[1, 2],\n",
       "       [3, 4],\n",
       "       [5, 6]])"
      ]
     },
     "execution_count": 55,
     "metadata": {},
     "output_type": "execute_result"
    }
   ],
   "source": [
    "a"
   ]
  },
  {
   "cell_type": "code",
   "execution_count": 57,
   "metadata": {
    "collapsed": false
   },
   "outputs": [
    {
     "name": "stdout",
     "output_type": "stream",
     "text": [
      "[3 4]\n",
      "[3 4]\n"
     ]
    }
   ],
   "source": [
    "print a[1]\n",
    "print a[1,:]"
   ]
  },
  {
   "cell_type": "code",
   "execution_count": 58,
   "metadata": {
    "collapsed": false
   },
   "outputs": [
    {
     "name": "stdout",
     "output_type": "stream",
     "text": [
      "[[1 2]\n",
      " [3 4]\n",
      " [5 6]]\n",
      "[[1 2]\n",
      " [0 0]\n",
      " [5 6]]\n"
     ]
    }
   ],
   "source": [
    "print a\n",
    "a[1,:]=0\n",
    "print a "
   ]
  },
  {
   "cell_type": "markdown",
   "metadata": {},
   "source": [
    "切片操作："
   ]
  },
  {
   "cell_type": "code",
   "execution_count": 89,
   "metadata": {
    "collapsed": false
   },
   "outputs": [
    {
     "name": "stdout",
     "output_type": "stream",
     "text": [
      "[[ 0.93448632  0.78670721  0.53082731  0.6879397   0.39792245]\n",
      " [ 0.40849334  0.39022913  0.64859412  0.59889672  0.58325598]\n",
      " [ 0.0906302   0.66651492  0.06256449  0.92408218  0.97363145]]\n",
      "[[ 0.93448632  0.53082731]\n",
      " [ 0.40849334  0.64859412]\n",
      " [ 0.0906302   0.06256449]]\n"
     ]
    }
   ],
   "source": [
    "x = random.rand(3,5)\n",
    "print x\n",
    "print x[:,[0,2]]"
   ]
  },
  {
   "cell_type": "code",
   "execution_count": 62,
   "metadata": {
    "collapsed": false
   },
   "outputs": [
    {
     "data": {
      "text/plain": [
       "array([[ 0.46740195,  0.0768382 ,  0.07346568],\n",
       "       [ 0.48948803,  0.29960272,  0.91767398],\n",
       "       [ 0.5598798 ,  0.91672971,  0.60836121]])"
      ]
     },
     "execution_count": 62,
     "metadata": {},
     "output_type": "execute_result"
    }
   ],
   "source": [
    "x[:,1:4]"
   ]
  },
  {
   "cell_type": "code",
   "execution_count": 64,
   "metadata": {
    "collapsed": false
   },
   "outputs": [
    {
     "data": {
      "text/plain": [
       "array([[ 0.179725  ,  0.07346568,  0.0768382 ,  0.46740195,  0.32740686],\n",
       "       [ 0.5135012 ,  0.91767398,  0.29960272,  0.48948803,  0.95433032],\n",
       "       [ 0.57635566,  0.60836121,  0.91672971,  0.5598798 ,  0.4558267 ]])"
      ]
     },
     "execution_count": 64,
     "metadata": {},
     "output_type": "execute_result"
    }
   ],
   "source": [
    "x[:,::-1]"
   ]
  },
  {
   "cell_type": "code",
   "execution_count": 65,
   "metadata": {
    "collapsed": false,
    "scrolled": true
   },
   "outputs": [
    {
     "name": "stdout",
     "output_type": "stream",
     "text": [
      "[[ 0.32740686  0.46740195]\n",
      " [ 0.95433032  0.48948803]\n",
      " [ 0.4558267   0.5598798 ]]\n",
      "[[ 0.0768382   0.07346568  0.179725  ]\n",
      " [ 0.29960272  0.91767398  0.5135012 ]\n",
      " [ 0.91672971  0.60836121  0.57635566]]\n",
      "[ 0.179725    0.5135012   0.57635566]\n",
      "[[ 0.0768382   0.07346568  0.179725  ]\n",
      " [ 0.29960272  0.91767398  0.5135012 ]\n",
      " [ 0.91672971  0.60836121  0.57635566]]\n"
     ]
    }
   ],
   "source": [
    "print x[:,:2] #前两列元素\n",
    "print x[:,2:] #前两列后的元素\n",
    "print x[:,-1] #最后一列后的元素\n",
    "print x[:,-3:] #最后三列元素"
   ]
  },
  {
   "cell_type": "code",
   "execution_count": 69,
   "metadata": {
    "collapsed": false
   },
   "outputs": [
    {
     "name": "stdout",
     "output_type": "stream",
     "text": [
      "[[ 5  6  7  8  9]\n",
      " [15 16 17 18 19]\n",
      " [25 26 27 28 29]\n",
      " [35 36 37 38 39]\n",
      " [45 46 47 48 49]]\n",
      "[[ 5  6  7]\n",
      " [15 16 17]\n",
      " [25 26 27]]\n",
      "[[ 5  7  9]\n",
      " [25 27 29]\n",
      " [45 47 49]]\n",
      "[16 17 35]\n"
     ]
    }
   ],
   "source": [
    "# 多维数组切片\n",
    "x = np.array([[n+5+m*10 for n in range(5)] for m in range(5)])\n",
    "print x\n",
    "print x[0:3,0:3]\n",
    "print x[::2,::2]\n",
    "print x[[1,1,3],[1,2,0]] #取其中元素"
   ]
  },
  {
   "cell_type": "code",
   "execution_count": 70,
   "metadata": {
    "collapsed": false
   },
   "outputs": [
    {
     "name": "stdout",
     "output_type": "stream",
     "text": [
      "[ 0.   0.5  1.   1.5  2.   2.5  3.   3.5  4.   4.5  5.   5.5  6.   6.5  7.\n",
      "  7.5  8.   8.5  9.   9.5]\n",
      "[False False False False False False False False False False False  True\n",
      "  True  True  True False False False False False]\n"
     ]
    },
    {
     "data": {
      "text/plain": [
       "array([ 5.5,  6. ,  6.5,  7. ])"
      ]
     },
     "execution_count": 70,
     "metadata": {},
     "output_type": "execute_result"
    }
   ],
   "source": [
    "# 索引掩码\n",
    "x = np.arange(0,10,0.5)\n",
    "print x\n",
    "mask = (5<x)*(x<7.5)\n",
    "print mask\n",
    "x[mask]"
   ]
  },
  {
   "cell_type": "markdown",
   "metadata": {},
   "source": [
    "从数组中提取元素并创建数组"
   ]
  },
  {
   "cell_type": "code",
   "execution_count": 74,
   "metadata": {
    "collapsed": false
   },
   "outputs": [
    {
     "name": "stdout",
     "output_type": "stream",
     "text": [
      "[ 0.   0.5  1.   1.5  2.   2.5  3.   3.5  4.   4.5  5.   5.5  6.   6.5  7.\n",
      "  7.5  8.   8.5  9.   9.5]\n",
      "[False False False False False False False False False False False  True\n",
      "  True  True  True False False False False False]\n",
      "(array([11, 12, 13, 14]),)\n",
      "[ 5.5  6.   6.5  7. ]\n",
      "[ 5.5  6.   6.5  7. ]\n"
     ]
    }
   ],
   "source": [
    "x = np.arange(0,10,0.5)\n",
    "print x\n",
    "mask = (5<x)*(x<7.5)\n",
    "print mask\n",
    "indices = np.where(mask)\n",
    "print indices\n",
    "print x[mask]\n",
    "print x[indices]"
   ]
  },
  {
   "cell_type": "code",
   "execution_count": 77,
   "metadata": {
    "collapsed": false
   },
   "outputs": [
    {
     "name": "stdout",
     "output_type": "stream",
     "text": [
      "[[ 0.35053038 -2.56973724 -0.05651981 -1.32248042  2.35476321]\n",
      " [ 0.2212736  -0.22289291 -0.40078711  0.94204767  0.64532453]\n",
      " [ 0.63454306  1.23743713  0.34034757  0.81521901  1.57708365]\n",
      " [-0.51013868  0.98183459  1.12518085 -0.12639426 -0.21625004]\n",
      " [ 0.39742529 -0.09494752  0.79372219  0.25211267  0.10551674]]\n",
      "[ 0.35053038 -0.22289291  0.34034757 -0.12639426  0.10551674]\n"
     ]
    }
   ],
   "source": [
    "# 利用diag提取主对角线元素\n",
    "x = random.randn(5,5)\n",
    "print x\n",
    "print np.diag(x)"
   ]
  },
  {
   "cell_type": "code",
   "execution_count": 87,
   "metadata": {
    "collapsed": false
   },
   "outputs": [
    {
     "name": "stdout",
     "output_type": "stream",
     "text": [
      "[0 1 2 3 4 5]\n",
      "[0 3 4]\n",
      "[0 3 4]\n",
      "[0 3 4]\n"
     ]
    }
   ],
   "source": [
    "# 利用take从数组中提取元素\n",
    "x = np.arange(0,6)\n",
    "print x\n",
    "print x[[0,3,4]]\n",
    "print x.take([0,3,4])\n",
    "print np.take(range(0,6),[0,3,4])"
   ]
  },
  {
   "cell_type": "markdown",
   "metadata": {},
   "source": [
    "# 矢量化操作"
   ]
  },
  {
   "cell_type": "code",
   "execution_count": 91,
   "metadata": {
    "collapsed": false
   },
   "outputs": [
    {
     "name": "stdout",
     "output_type": "stream",
     "text": [
      "[0 1 2 3 4]\n",
      "[0 2 4 6 8]\n",
      "[2 3 4 5 6]\n",
      "[ 0  1  4  9 16]\n",
      "[ 0  1  4  9 16]\n"
     ]
    }
   ],
   "source": [
    "# np.array数组默认的操作是针对单个元素的操作\n",
    "x = np.arange(0,5)\n",
    "print x\n",
    "print x*2\n",
    "print x+2\n",
    "print x**2\n",
    "print x*x\n"
   ]
  },
  {
   "cell_type": "code",
   "execution_count": 93,
   "metadata": {
    "collapsed": false
   },
   "outputs": [
    {
     "name": "stdout",
     "output_type": "stream",
     "text": [
      "[[ 0  2  4  6  8]\n",
      " [ 2  4  6  8 10]]\n",
      "[0 1 2 3 4]\n",
      "(2, 5) (5,)\n",
      "[[ 0  2  8 18 32]\n",
      " [ 0  4 12 24 40]]\n"
     ]
    }
   ],
   "source": [
    "# 智能行乘操作\n",
    "A = np.array([[ 0,  2,  4,  6,  8],\n",
    "                   [2,  4,  6,  8,  10]])\n",
    "v1 = np.arange(0, 5)\n",
    "print A\n",
    "print v1\n",
    "print A.shape,v1.shape\n",
    "print A*v1"
   ]
  },
  {
   "cell_type": "code",
   "execution_count": 99,
   "metadata": {
    "collapsed": false
   },
   "outputs": [
    {
     "name": "stdout",
     "output_type": "stream",
     "text": [
      "[[ 0  2  4  6  8]\n",
      " [ 2  4  6  8 10]]\n",
      "[0 1 2 3 4]\n",
      "(2, 5) (5,)\n",
      "method 1:\n",
      "[60 80]\n",
      "(2,)\n",
      "30\n",
      "method 2:\n",
      "[[ 0  2  4  6  8]\n",
      " [ 2  4  6  8 10]]\n",
      "[[0]\n",
      " [1]\n",
      " [2]\n",
      " [3]\n",
      " [4]]\n",
      "[[60]\n",
      " [80]]\n"
     ]
    }
   ],
   "source": [
    "# 矩阵乘法\n",
    "A = np.array([[ 0,  2,  4,  6,  8],\n",
    "                   [2,  4,  6,  8,  10]])\n",
    "v1 = np.arange(0, 5)\n",
    "print A\n",
    "print v1\n",
    "print A.shape,v1.shape\n",
    "#方法一\n",
    "print \"method 1:\"\n",
    "print np.dot(A,v1) #矩阵乘法\n",
    "print np.dot(A,v1).shape #矩阵乘法\n",
    "print np.dot(v1,v1) #内积向量乘法\n",
    "#方法二\n",
    "print \"method 2:\"\n",
    "A = np.matrix(A)\n",
    "v1 = np.matrix(v1).T #转置\n",
    "print A\n",
    "print v1\n",
    "print A *v1"
   ]
  },
  {
   "cell_type": "code",
   "execution_count": 103,
   "metadata": {
    "collapsed": false
   },
   "outputs": [
    {
     "name": "stdout",
     "output_type": "stream",
     "text": [
      "[[ 0.+1.j  0.+2.j]\n",
      " [ 0.+3.j  0.+4.j]]\n",
      "[[ 0.+1.j  0.+3.j]\n",
      " [ 0.+2.j  0.+4.j]]\n",
      "[[ 0.-1.j  0.-2.j]\n",
      " [ 0.-3.j  0.-4.j]]\n",
      "[[ 0.-1.j  0.-3.j]\n",
      " [ 0.-2.j  0.-4.j]]\n",
      "[[ 0.  0.]\n",
      " [ 0.  0.]]\n",
      "[[ 1.  2.]\n",
      " [ 3.  4.]]\n",
      "[[ 1.57079633  1.57079633]\n",
      " [ 1.57079633  1.57079633]]\n",
      "[[ 1.  2.]\n",
      " [ 3.  4.]]\n"
     ]
    }
   ],
   "source": [
    "#矩阵操作\n",
    "x = np.matrix([[1j, 2j], [3j, 4j]])\n",
    "print x\n",
    "print x.T\n",
    "print np.conjugate(x) #共轭\n",
    "print x.H #转置共轭\n",
    "print np.real(x)\n",
    "print np.imag(x)\n",
    "print np.angle(x)\n",
    "print np.abs(x)"
   ]
  },
  {
   "cell_type": "code",
   "execution_count": 104,
   "metadata": {
    "collapsed": false,
    "scrolled": true
   },
   "outputs": [
    {
     "name": "stdout",
     "output_type": "stream",
     "text": [
      "[[ 1.+1.j  0.+2.j]\n",
      " [ 4.+3.j  0.+4.j]]\n",
      "[[-0.8+0.4j  0.4-0.2j]\n",
      " [ 0.2-1.1j -0.1+0.3j]]\n",
      "[[-0.8+0.4j  0.4-0.2j]\n",
      " [ 0.2-1.1j -0.1+0.3j]]\n",
      "[[  1.00000000e+00 +5.55111512e-17j  -1.11022302e-16 -2.77555756e-17j]\n",
      " [  0.00000000e+00 +1.11022302e-16j   1.00000000e+00 -5.55111512e-17j]]\n",
      "(2-4j)\n"
     ]
    }
   ],
   "source": [
    "#矩阵计算\n",
    "x = np.matrix([[1+1j, 2j], [4+3j, 4j]])\n",
    "print x\n",
    "# 计算矩阵的逆\n",
    "print x.I\n",
    "print np.linalg.inv(x)\n",
    "print x * x.I\n",
    "#计算矩阵的行列式\n",
    "print np.linalg.det(x)"
   ]
  },
  {
   "cell_type": "code",
   "execution_count": 149,
   "metadata": {
    "collapsed": false
   },
   "outputs": [
    {
     "data": {
      "text/plain": [
       "array([0, 0, 0, 0, 0, 1, 1, 1, 1, 1])"
      ]
     },
     "execution_count": 149,
     "metadata": {},
     "output_type": "execute_result"
    }
   ],
   "source": [
    "#非矢量化函数\n",
    "def Theta(x):\n",
    "    \"\"\"\n",
    "    Scalar implemenation of the Heaviside step function\n",
    "    \"\"\"\n",
    "    if x>=0:\n",
    "        return 1\n",
    "    else:\n",
    "        return 0\n",
    "Theta_vec = np.vectorize(Theta) #转化为矢量计算\n",
    "x = np.arange(-5,5)\n",
    "Theta_vec(x)"
   ]
  },
  {
   "cell_type": "code",
   "execution_count": 150,
   "metadata": {
    "collapsed": false
   },
   "outputs": [
    {
     "data": {
      "text/plain": [
       "array([0, 0, 0, 0, 0, 1, 1, 1, 1, 1])"
      ]
     },
     "execution_count": 150,
     "metadata": {},
     "output_type": "execute_result"
    }
   ],
   "source": [
    "#矢量化函数\n",
    "def Theta(x):\n",
    "    \"\"\"\n",
    "    Vector-aware implemenation of the Heaviside step function.\n",
    "    \"\"\"\n",
    "    return (x>=0)*1\n",
    "x = np.arange(-5,5)\n",
    "Theta(x)"
   ]
  },
  {
   "cell_type": "markdown",
   "metadata": {},
   "source": [
    "# 文件IO"
   ]
  },
  {
   "cell_type": "markdown",
   "metadata": {},
   "source": [
    "## 转化为csv或tsv"
   ]
  },
  {
   "cell_type": "code",
   "execution_count": 41,
   "metadata": {
    "collapsed": false
   },
   "outputs": [
    {
     "data": {
      "text/plain": [
       "array([[ 0.89063165,  0.21119563],\n",
       "       [ 0.61440284,  0.97998172],\n",
       "       [ 0.68933552,  0.63213934]])"
      ]
     },
     "execution_count": 41,
     "metadata": {},
     "output_type": "execute_result"
    }
   ],
   "source": [
    "x = random.rand(3,2)\n",
    "x"
   ]
  },
  {
   "cell_type": "code",
   "execution_count": 42,
   "metadata": {
    "collapsed": true
   },
   "outputs": [],
   "source": [
    "np.savetxt(\"random-matrix.csv\",x)"
   ]
  },
  {
   "cell_type": "code",
   "execution_count": 43,
   "metadata": {
    "collapsed": false
   },
   "outputs": [
    {
     "name": "stdout",
     "output_type": "stream",
     "text": [
      "8.906316498274183813e-01 2.111956330532629433e-01\r\n",
      "6.144028387950468684e-01 9.799817180444337916e-01\r\n",
      "6.893355178118952820e-01 6.321393425877656069e-01\r\n"
     ]
    }
   ],
   "source": [
    "!cat random-matrix.csv"
   ]
  },
  {
   "cell_type": "markdown",
   "metadata": {},
   "source": [
    "## np的原生格式"
   ]
  },
  {
   "cell_type": "code",
   "execution_count": 45,
   "metadata": {
    "collapsed": false
   },
   "outputs": [
    {
     "name": "stdout",
     "output_type": "stream",
     "text": [
      "random-matrix.npy: data\r\n"
     ]
    }
   ],
   "source": [
    "np.save(\"random-matrix.npy\", x)\n",
    "!file random-matrix.npy"
   ]
  },
  {
   "cell_type": "code",
   "execution_count": 47,
   "metadata": {
    "collapsed": false
   },
   "outputs": [
    {
     "data": {
      "text/plain": [
       "array([[ 0.89063165,  0.21119563],\n",
       "       [ 0.61440284,  0.97998172],\n",
       "       [ 0.68933552,  0.63213934]])"
      ]
     },
     "execution_count": 47,
     "metadata": {},
     "output_type": "execute_result"
    }
   ],
   "source": [
    "np.load(\"random-matrix.npy\")"
   ]
  }
 ],
 "metadata": {
  "kernelspec": {
   "display_name": "Python 2",
   "language": "python",
   "name": "python2"
  },
  "language_info": {
   "codemirror_mode": {
    "name": "ipython",
    "version": 2
   },
   "file_extension": ".py",
   "mimetype": "text/x-python",
   "name": "python",
   "nbconvert_exporter": "python",
   "pygments_lexer": "ipython2",
   "version": "2.7.9"
  }
 },
 "nbformat": 4,
 "nbformat_minor": 0
}
